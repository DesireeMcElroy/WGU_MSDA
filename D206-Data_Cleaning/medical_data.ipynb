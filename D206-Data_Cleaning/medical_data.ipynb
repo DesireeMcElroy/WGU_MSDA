{
 "cells": [
  {
   "cell_type": "markdown",
   "metadata": {},
   "source": [
    "# D206 Data Cleaning"
   ]
  },
  {
   "cell_type": "code",
   "execution_count": 330,
   "metadata": {},
   "outputs": [],
   "source": [
    "import pandas as pd\n",
    "import numpy as np\n",
    "\n",
    "import matplotlib.pyplot as plt\n",
    "import seaborn as sns\n",
    "\n",
    "import warnings\n",
    "warnings.filterwarnings('ignore')\n",
    "\n",
    "import scipy.stats as stats\n",
    "from sklearn.decomposition import PCA\n",
    "\n",
    "import missingno as msno"
   ]
  },
  {
   "cell_type": "markdown",
   "metadata": {},
   "source": [
    "# REFERENCE\n",
    "**Part I: Research Question**\n",
    "\n",
    "\n",
    "\n",
    "**A.**  Describe one question or decision that could be addressed using the data set you chose. The summarized question or decision must be relevant to a realistic organizational need or situation.\n",
    "\n",
    "\n",
    "\n",
    "**B.**  Describe all variables in the data set (regardless of the research question) and indicate the data type for each variable. Use examples from the data set to support your claims.\n",
    "\n",
    "\n",
    "\n",
    "**Part II: Data-Cleaning Plan**\n",
    "\n",
    "\n",
    "\n",
    "**C.**  Explain the plan for cleaning the data by doing the following:\n",
    "\n",
    "    1.  Propose a plan that includes the relevant techniques and specific steps needed to assess the quality of the data in the data set.\n",
    "\n",
    "    2.  Justify your approach for assessing the quality of the data, including the following:\n",
    "\n",
    "        •  characteristics of the data being assessed\n",
    "\n",
    "        •  the approach used to assess the quality of the data\n",
    "\n",
    "    3.  Justify your selected programming language and any libraries and packages that will support the data-cleaning process.\n",
    "\n",
    "    4.  Provide the annotated code you will use to assess the quality of the data in an executable script file.\n",
    "\n",
    "\n",
    "\n",
    "**Part III: Data Cleaning**\n",
    "\n",
    "\n",
    "\n",
    "**D.**  Summarize the data-cleaning process by doing the following:\n",
    "\n",
    "    1.  Describe the findings for the data quality issues found from the implementation of the data-cleaning plan from part C.\n",
    "\n",
    "    2.  Justify your methods for mitigating the data quality issues in the data set.\n",
    "\n",
    "    3.  Summarize the outcome from the implementation of each data-cleaning step.\n",
    "\n",
    "    4.  Provide the annotated code you will use to mitigate the data quality issues—including anomalies—in the data set in an executable script file.\n",
    "\n",
    "    5.  Provide a copy of the cleaned data set as a CSV file.\n",
    "\n",
    "    6.  Summarize the limitations of the data-cleaning process.\n",
    "\n",
    "    7.  Discuss how the limitations summarized in part D6 could affect the analysis of the question or decision from part A.\n",
    "\n",
    "\n",
    "\n",
    "**E.**  Apply principal component analysis (PCA) to identify the significant features of the data set by doing the following:\n",
    "\n",
    "    1.  Identify the total number of principal components and provide the output of the principal components loading matrix.\n",
    "\n",
    "    2.  Justify the reduced number of the principal components and include a screenshot of a scree plot.\n",
    "\n",
    "    3.  Describe how the organization would benefit from the use of PCA.\n",
    "\n",
    "--------"
   ]
  },
  {
   "cell_type": "markdown",
   "metadata": {},
   "source": [
    "-------\n",
    "# A. Research Question:\n",
    "Does a relationship between vitamin D levels and hospital re-admissions exist? In the age holistic cures, there have been many topics on the efficacy of well balanced vitamin/mineral levels and healthy living. Could this research question help prove or debunk theories of vitamin D being a powerful root of healthy life?"
   ]
  },
  {
   "cell_type": "code",
   "execution_count": 3,
   "metadata": {},
   "outputs": [],
   "source": [
    "# read in the csv file and create dataframe\n",
    "df = pd.read_csv('medical_raw_data.csv', index_col=[0])"
   ]
  },
  {
   "cell_type": "code",
   "execution_count": 4,
   "metadata": {},
   "outputs": [
    {
     "data": {
      "text/html": [
       "<div>\n",
       "<style scoped>\n",
       "    .dataframe tbody tr th:only-of-type {\n",
       "        vertical-align: middle;\n",
       "    }\n",
       "\n",
       "    .dataframe tbody tr th {\n",
       "        vertical-align: top;\n",
       "    }\n",
       "\n",
       "    .dataframe thead th {\n",
       "        text-align: right;\n",
       "    }\n",
       "</style>\n",
       "<table border=\"1\" class=\"dataframe\">\n",
       "  <thead>\n",
       "    <tr style=\"text-align: right;\">\n",
       "      <th></th>\n",
       "      <th>10000</th>\n",
       "    </tr>\n",
       "  </thead>\n",
       "  <tbody>\n",
       "    <tr>\n",
       "      <th>CaseOrder</th>\n",
       "      <td>10000</td>\n",
       "    </tr>\n",
       "    <tr>\n",
       "      <th>Customer_id</th>\n",
       "      <td>I569847</td>\n",
       "    </tr>\n",
       "    <tr>\n",
       "      <th>Interaction</th>\n",
       "      <td>bc482c02-f8c9-4423-99de-3db5e62a18d5</td>\n",
       "    </tr>\n",
       "    <tr>\n",
       "      <th>UID</th>\n",
       "      <td>95663a202338000abdf7e09311c2a8a1</td>\n",
       "    </tr>\n",
       "    <tr>\n",
       "      <th>City</th>\n",
       "      <td>Coraopolis</td>\n",
       "    </tr>\n",
       "    <tr>\n",
       "      <th>State</th>\n",
       "      <td>PA</td>\n",
       "    </tr>\n",
       "    <tr>\n",
       "      <th>County</th>\n",
       "      <td>Allegheny</td>\n",
       "    </tr>\n",
       "    <tr>\n",
       "      <th>Zip</th>\n",
       "      <td>15108</td>\n",
       "    </tr>\n",
       "    <tr>\n",
       "      <th>Lat</th>\n",
       "      <td>40.49998</td>\n",
       "    </tr>\n",
       "    <tr>\n",
       "      <th>Lng</th>\n",
       "      <td>-80.19959</td>\n",
       "    </tr>\n",
       "    <tr>\n",
       "      <th>Population</th>\n",
       "      <td>41524</td>\n",
       "    </tr>\n",
       "    <tr>\n",
       "      <th>Area</th>\n",
       "      <td>Urban</td>\n",
       "    </tr>\n",
       "    <tr>\n",
       "      <th>Timezone</th>\n",
       "      <td>America/New_York</td>\n",
       "    </tr>\n",
       "    <tr>\n",
       "      <th>Job</th>\n",
       "      <td>Sports development officer</td>\n",
       "    </tr>\n",
       "    <tr>\n",
       "      <th>Children</th>\n",
       "      <td>8.0</td>\n",
       "    </tr>\n",
       "    <tr>\n",
       "      <th>Age</th>\n",
       "      <td>NaN</td>\n",
       "    </tr>\n",
       "    <tr>\n",
       "      <th>Education</th>\n",
       "      <td>9th Grade to 12th Grade, No Diploma</td>\n",
       "    </tr>\n",
       "    <tr>\n",
       "      <th>Employment</th>\n",
       "      <td>Full Time</td>\n",
       "    </tr>\n",
       "    <tr>\n",
       "      <th>Income</th>\n",
       "      <td>62682.63</td>\n",
       "    </tr>\n",
       "    <tr>\n",
       "      <th>Marital</th>\n",
       "      <td>Separated</td>\n",
       "    </tr>\n",
       "    <tr>\n",
       "      <th>Gender</th>\n",
       "      <td>Female</td>\n",
       "    </tr>\n",
       "    <tr>\n",
       "      <th>ReAdmis</th>\n",
       "      <td>Yes</td>\n",
       "    </tr>\n",
       "    <tr>\n",
       "      <th>VitD_levels</th>\n",
       "      <td>20.421883</td>\n",
       "    </tr>\n",
       "    <tr>\n",
       "      <th>Doc_visits</th>\n",
       "      <td>5</td>\n",
       "    </tr>\n",
       "    <tr>\n",
       "      <th>Full_meals_eaten</th>\n",
       "      <td>0</td>\n",
       "    </tr>\n",
       "    <tr>\n",
       "      <th>VitD_supp</th>\n",
       "      <td>1</td>\n",
       "    </tr>\n",
       "    <tr>\n",
       "      <th>Soft_drink</th>\n",
       "      <td>No</td>\n",
       "    </tr>\n",
       "    <tr>\n",
       "      <th>Initial_admin</th>\n",
       "      <td>Observation Admission</td>\n",
       "    </tr>\n",
       "    <tr>\n",
       "      <th>HighBlood</th>\n",
       "      <td>No</td>\n",
       "    </tr>\n",
       "    <tr>\n",
       "      <th>Stroke</th>\n",
       "      <td>No</td>\n",
       "    </tr>\n",
       "    <tr>\n",
       "      <th>Complication_risk</th>\n",
       "      <td>Low</td>\n",
       "    </tr>\n",
       "    <tr>\n",
       "      <th>Overweight</th>\n",
       "      <td>1.0</td>\n",
       "    </tr>\n",
       "    <tr>\n",
       "      <th>Arthritis</th>\n",
       "      <td>Yes</td>\n",
       "    </tr>\n",
       "    <tr>\n",
       "      <th>Diabetes</th>\n",
       "      <td>No</td>\n",
       "    </tr>\n",
       "    <tr>\n",
       "      <th>Hyperlipidemia</th>\n",
       "      <td>Yes</td>\n",
       "    </tr>\n",
       "    <tr>\n",
       "      <th>BackPain</th>\n",
       "      <td>No</td>\n",
       "    </tr>\n",
       "    <tr>\n",
       "      <th>Anxiety</th>\n",
       "      <td>0.0</td>\n",
       "    </tr>\n",
       "    <tr>\n",
       "      <th>Allergic_rhinitis</th>\n",
       "      <td>Yes</td>\n",
       "    </tr>\n",
       "    <tr>\n",
       "      <th>Reflux_esophagitis</th>\n",
       "      <td>No</td>\n",
       "    </tr>\n",
       "    <tr>\n",
       "      <th>Asthma</th>\n",
       "      <td>No</td>\n",
       "    </tr>\n",
       "    <tr>\n",
       "      <th>Services</th>\n",
       "      <td>Blood Work</td>\n",
       "    </tr>\n",
       "    <tr>\n",
       "      <th>Initial_days</th>\n",
       "      <td>70.850592</td>\n",
       "    </tr>\n",
       "    <tr>\n",
       "      <th>TotalCharge</th>\n",
       "      <td>8700.856021</td>\n",
       "    </tr>\n",
       "    <tr>\n",
       "      <th>Additional_charges</th>\n",
       "      <td>11643.18993</td>\n",
       "    </tr>\n",
       "    <tr>\n",
       "      <th>Item1</th>\n",
       "      <td>4</td>\n",
       "    </tr>\n",
       "    <tr>\n",
       "      <th>Item2</th>\n",
       "      <td>3</td>\n",
       "    </tr>\n",
       "    <tr>\n",
       "      <th>Item3</th>\n",
       "      <td>3</td>\n",
       "    </tr>\n",
       "    <tr>\n",
       "      <th>Item4</th>\n",
       "      <td>2</td>\n",
       "    </tr>\n",
       "    <tr>\n",
       "      <th>Item5</th>\n",
       "      <td>3</td>\n",
       "    </tr>\n",
       "    <tr>\n",
       "      <th>Item6</th>\n",
       "      <td>6</td>\n",
       "    </tr>\n",
       "    <tr>\n",
       "      <th>Item7</th>\n",
       "      <td>4</td>\n",
       "    </tr>\n",
       "    <tr>\n",
       "      <th>Item8</th>\n",
       "      <td>3</td>\n",
       "    </tr>\n",
       "  </tbody>\n",
       "</table>\n",
       "</div>"
      ],
      "text/plain": [
       "                                                   10000\n",
       "CaseOrder                                          10000\n",
       "Customer_id                                      I569847\n",
       "Interaction         bc482c02-f8c9-4423-99de-3db5e62a18d5\n",
       "UID                     95663a202338000abdf7e09311c2a8a1\n",
       "City                                          Coraopolis\n",
       "State                                                 PA\n",
       "County                                         Allegheny\n",
       "Zip                                                15108\n",
       "Lat                                             40.49998\n",
       "Lng                                            -80.19959\n",
       "Population                                         41524\n",
       "Area                                               Urban\n",
       "Timezone                                America/New_York\n",
       "Job                           Sports development officer\n",
       "Children                                             8.0\n",
       "Age                                                  NaN\n",
       "Education            9th Grade to 12th Grade, No Diploma\n",
       "Employment                                     Full Time\n",
       "Income                                          62682.63\n",
       "Marital                                        Separated\n",
       "Gender                                            Female\n",
       "ReAdmis                                              Yes\n",
       "VitD_levels                                    20.421883\n",
       "Doc_visits                                             5\n",
       "Full_meals_eaten                                       0\n",
       "VitD_supp                                              1\n",
       "Soft_drink                                            No\n",
       "Initial_admin                      Observation Admission\n",
       "HighBlood                                             No\n",
       "Stroke                                                No\n",
       "Complication_risk                                    Low\n",
       "Overweight                                           1.0\n",
       "Arthritis                                            Yes\n",
       "Diabetes                                              No\n",
       "Hyperlipidemia                                       Yes\n",
       "BackPain                                              No\n",
       "Anxiety                                              0.0\n",
       "Allergic_rhinitis                                    Yes\n",
       "Reflux_esophagitis                                    No\n",
       "Asthma                                                No\n",
       "Services                                      Blood Work\n",
       "Initial_days                                   70.850592\n",
       "TotalCharge                                  8700.856021\n",
       "Additional_charges                           11643.18993\n",
       "Item1                                                  4\n",
       "Item2                                                  3\n",
       "Item3                                                  3\n",
       "Item4                                                  2\n",
       "Item5                                                  3\n",
       "Item6                                                  6\n",
       "Item7                                                  4\n",
       "Item8                                                  3"
      ]
     },
     "execution_count": 4,
     "metadata": {},
     "output_type": "execute_result"
    }
   ],
   "source": [
    "df.tail(1).T"
   ]
  },
  {
   "cell_type": "markdown",
   "metadata": {},
   "source": [
    "# B. Variable Descriptions\n",
    "\n",
    "\n",
    "***Describe all variables***\n",
    "\n",
    "Name | Description | Type | Example\n",
    ":---: | :---: | :---: | :--:\n",
    "CaseOrder | Case order number, also serves as an index | qualitative | 10000\n",
    "Customer_id | Unique ID given to each patient | qualitative | I569847\n",
    "Interaction | Unique ID given to interaction with patient | qualitative | bc482c02-f8c9-4423-99de-3db5e62a18d5\n",
    "uid | Unique ID given to interaction with patient | qualitative | 95663a202338000abdf7e09311c2a8a1\n",
    "city | patient's city per their billing statement | qualitative | Coraopolis\n",
    "state | patient's state per their billing statement | qualitative | PA\n",
    "county | patient's county of residence per their billing statement | qualitative | Allegheny\n",
    "zip | patient's residence zip code per their billing statement | qualitative | 15108\n",
    "lat | latitude coordinate of patient residence per billing statement | qualitative | 40.49998\n",
    "lng | longitude coordinate of patient residence per billing statement | qualitative | -80.19959\n",
    "population | population within a mile radius of patient | quantitative | 41524\n",
    "area | rural, urban or suburban area type | qualitative | Urban\n",
    "timezone | timezone of patient's residence | qualitative | America/New_York\n",
    "job | job of patient (or primary insurance holder) per their admissions information | qualitative | Sports development officer\n",
    "children | number of children in patient's household | quantitative | 8.0\n",
    "age | age of patient | quantitative | Nan\n",
    "education | highest earned degree of patient | qualitative | 9th Grade to 12th Grade, No Diploma\n",
    "employment | ..... | qualitative | full time\n",
    "income | annual income of patient or primary insurance holder | quantitative | 62682.63\n",
    "marital | marital status of patient or primary insurance holder | qualitative | Separated\n",
    "gender | the customer's self identification of gender (male, female or nonbinary) | qualitative | Female\n",
    "readmis | whether patient was readmitted within a month of last release (yes or no) | qualitative | Yes\n",
    "vitd_levels | the patient's vitamin d level measured in ng/mL | quantitative | 20.421883\n",
    "doc_visits | number of times primary physician visited the patient during the initial hospitalization | quantitative | 5\n",
    "full_meals_eaten | number of full meals a patient ate while hospitalized, where partial meals are rounded to 0 | quantitative | 0\n",
    "vitd_supp | number of times vit d supplement was given to patient | quantitative | 1\n",
    "soft_drink | whether patient drinks three or more sodas a day (yes,no) | qualitative | no\n",
    "initial_admin | how patient was initially admitted into the hospital (emergency admission, elective admission, observation | qualitative | Observation Admission\n",
    "highblood | whether patient has high blood pressure (yes,no) | qualitative | No\n",
    "stroke | whether patient has had a stroke (yes,no) | qualitative | No\n",
    "complication_risk | level of complication risk assessed by physician (high, medium, low) | qualitative | Low\n",
    "overweight | whether patient is considered overweight based on age, gender and height (yes, no) | qualitative | 1.0\n",
    "arthritis | whether patient has arthritis (yes, no) | qualitative | Yes\n",
    "diabetes | whether patient has diabetes (yes, no) | qualitative | No\n",
    "hyperlipidemia | whether patient has hyperlipidemia (yes, no) | qualitative | Yes\n",
    "backpain | whether patient has chronic backpain (yes, no) | qualitative | No\n",
    "anxiety | whether patient has anxiety (yes, no) | qualitative | 0.0\n",
    "allergic_rhinitis | whether patient has allergic rhinitis (yes, no) | qualitative | Yes\n",
    "reflux_esophagitis | whether patient has reflux esophagitis (yes, no) | qualitative | No\n",
    "asthma | whether patient has asthma (yes, no) | qualitative | No\n",
    "services | primary service patient has received while hospitalized (blood work, intravenous, CT scan, MRI) | qualitative | Blood Work\n",
    "initial_days | number of days patient stayed in the hospital during initial visit | quantitative | 70.850592\n",
    "totalcharge | The amount charged to the patient daily. This value reflects an average per patient based on the total charge divided by the number of days hospitalized This amount reflects the typical charges billed to patient not including specialized treatments | quantitative | 8700.856021\n",
    "additional_charges | average amount charge to patient for misc procedures, treatments, medications, anesthesiology | quantitative | 11643.18993\n",
    "Item1 | Timely admission | qualitative | 4\n",
    "Item2 | Timely treatment | qualitative | 3\n",
    "Item3 | represents timely visits | qualitative | 3\n",
    "Item4 | represents reliability | qualitative | 2\n",
    "Item5 | represents options | qualitative | 3\n",
    "Item6 | represents hours of treatment | quantitative | 6\n",
    "Item7 | represents courteous staff | qualitative | 4\n",
    "Item8 | represents evidence of active listening from doctor | qualitative | 3\n",
    "\n",
    "-------"
   ]
  },
  {
   "cell_type": "markdown",
   "metadata": {},
   "source": [
    "# C1.  Data Cleaning Plan\n",
    "\n",
    "**Propose a plan that includes the relevant techniques and specific steps needed to assess the quality of the data in the data set.**\n",
    "\n",
    "\n",
    "a. Get dataframe information summary using info function.\n",
    "\n",
    "b. Get an idea of the column data types using dtypes function in order to assess whether any data types need to be changed and how to visualize them.\n",
    "\n",
    "c. Visualize the distribution for continuous data, get an idea of value counts, or run .describe() on column. This will help me assess the type of distribution if any and how to address any empty and anamolous values. This will also help assess whether certain data points are truly anomalous.\n",
    "\n",
    "c. Analyze the null values, look for any commonality between nulls and assess how to handle them whether it be via imputation, dropping them, or separating them from the dataframe.\n",
    "\n",
    "d. View the outliers as needed, assess how to handle them, decide whether they are in reasonable bounds or not.\n",
    "\n",
    "e. Address any duplicates if present.\n",
    "\n",
    "f. PCA"
   ]
  },
  {
   "cell_type": "markdown",
   "metadata": {},
   "source": [
    "# C2: Justify Data Cleaning Plan\n",
    "- This is thorough scope of analyzing the data. I start by getting a quick scope of the data by usinf the .info() function which allows me see the names of all columns, their data types, how many missing values are in each function as well as the dataframe shape.\n",
    "- Next, going column by column allows me to assess the data individually. For example with continuous value columns, I am able to assess the distribution and value counts where necessary. With discrete data, I am able to get a general view of frequency count.\n",
    "- Analyzing the nulls in each column with missing values allows me to assess any patterns in the missing data and decide how to handle the nulls. Lastly, address any duplicates if any."
   ]
  },
  {
   "cell_type": "markdown",
   "metadata": {},
   "source": [
    "# C3: Justify Programming Languages/Packages\n",
    "- **Python** is a powerful data science programming language that not only provides ease of use but is also extremely robust in implementing the entire data science pipeline on various types if data including tabular, text and even images.\n",
    "- Since our data is all maintained in a dataframe, **pandas** and **numpy** are the obvious first choice libraries to assess and clean this data. Numpy is a powerful python library that has many manipulation techniques particularly for arrays such as this dataframe. Pandas is a powerful library specifically for tabular data just like this dataframe. It allows to exploration and manipulation of columns, rows, data types, mathematical analysis etc...\n",
    "- Visuals also provide a powerful analysis of tabular data and thus **matplotlib** and **seaborn** are the top two choices for visuals. Each provide strong visualization graphs to help easily assess data quality, distribution and general data relationships. The most helpful functions for our particularly data are bar charts, distribution charts, and box plots.\n",
    "- For **PCA**..."
   ]
  },
  {
   "cell_type": "markdown",
   "metadata": {},
   "source": [
    "# C4: Code to assess data quality"
   ]
  },
  {
   "cell_type": "code",
   "execution_count": 5,
   "metadata": {},
   "outputs": [
    {
     "name": "stdout",
     "output_type": "stream",
     "text": [
      "<class 'pandas.core.frame.DataFrame'>\n",
      "Int64Index: 10000 entries, 1 to 10000\n",
      "Data columns (total 52 columns):\n",
      " #   Column              Non-Null Count  Dtype  \n",
      "---  ------              --------------  -----  \n",
      " 0   CaseOrder           10000 non-null  int64  \n",
      " 1   Customer_id         10000 non-null  object \n",
      " 2   Interaction         10000 non-null  object \n",
      " 3   UID                 10000 non-null  object \n",
      " 4   City                10000 non-null  object \n",
      " 5   State               10000 non-null  object \n",
      " 6   County              10000 non-null  object \n",
      " 7   Zip                 10000 non-null  int64  \n",
      " 8   Lat                 10000 non-null  float64\n",
      " 9   Lng                 10000 non-null  float64\n",
      " 10  Population          10000 non-null  int64  \n",
      " 11  Area                10000 non-null  object \n",
      " 12  Timezone            10000 non-null  object \n",
      " 13  Job                 10000 non-null  object \n",
      " 14  Children            7412 non-null   float64\n",
      " 15  Age                 7586 non-null   float64\n",
      " 16  Education           10000 non-null  object \n",
      " 17  Employment          10000 non-null  object \n",
      " 18  Income              7536 non-null   float64\n",
      " 19  Marital             10000 non-null  object \n",
      " 20  Gender              10000 non-null  object \n",
      " 21  ReAdmis             10000 non-null  object \n",
      " 22  VitD_levels         10000 non-null  float64\n",
      " 23  Doc_visits          10000 non-null  int64  \n",
      " 24  Full_meals_eaten    10000 non-null  int64  \n",
      " 25  VitD_supp           10000 non-null  int64  \n",
      " 26  Soft_drink          7533 non-null   object \n",
      " 27  Initial_admin       10000 non-null  object \n",
      " 28  HighBlood           10000 non-null  object \n",
      " 29  Stroke              10000 non-null  object \n",
      " 30  Complication_risk   10000 non-null  object \n",
      " 31  Overweight          9018 non-null   float64\n",
      " 32  Arthritis           10000 non-null  object \n",
      " 33  Diabetes            10000 non-null  object \n",
      " 34  Hyperlipidemia      10000 non-null  object \n",
      " 35  BackPain            10000 non-null  object \n",
      " 36  Anxiety             9016 non-null   float64\n",
      " 37  Allergic_rhinitis   10000 non-null  object \n",
      " 38  Reflux_esophagitis  10000 non-null  object \n",
      " 39  Asthma              10000 non-null  object \n",
      " 40  Services            10000 non-null  object \n",
      " 41  Initial_days        8944 non-null   float64\n",
      " 42  TotalCharge         10000 non-null  float64\n",
      " 43  Additional_charges  10000 non-null  float64\n",
      " 44  Item1               10000 non-null  int64  \n",
      " 45  Item2               10000 non-null  int64  \n",
      " 46  Item3               10000 non-null  int64  \n",
      " 47  Item4               10000 non-null  int64  \n",
      " 48  Item5               10000 non-null  int64  \n",
      " 49  Item6               10000 non-null  int64  \n",
      " 50  Item7               10000 non-null  int64  \n",
      " 51  Item8               10000 non-null  int64  \n",
      "dtypes: float64(11), int64(14), object(27)\n",
      "memory usage: 4.0+ MB\n"
     ]
    }
   ],
   "source": [
    "# get info on column names, data types, count and nulls.\n",
    "df.info()"
   ]
  },
  {
   "cell_type": "code",
   "execution_count": 6,
   "metadata": {},
   "outputs": [
    {
     "name": "stdout",
     "output_type": "stream",
     "text": [
      "My dataframe has  10000 rows and  52 columns\n"
     ]
    }
   ],
   "source": [
    "print('My dataframe has ', df.shape[0], 'rows and ', df.shape[1], 'columns')"
   ]
  },
  {
   "cell_type": "code",
   "execution_count": 7,
   "metadata": {},
   "outputs": [],
   "source": [
    "# lowercase all column names for ease of use\n",
    "df.columns = map(str.lower, df.columns)"
   ]
  },
  {
   "cell_type": "code",
   "execution_count": 8,
   "metadata": {},
   "outputs": [
    {
     "data": {
      "text/plain": [
       "caseorder               int64\n",
       "customer_id            object\n",
       "interaction            object\n",
       "uid                    object\n",
       "city                   object\n",
       "state                  object\n",
       "county                 object\n",
       "zip                     int64\n",
       "lat                   float64\n",
       "lng                   float64\n",
       "population              int64\n",
       "area                   object\n",
       "timezone               object\n",
       "job                    object\n",
       "children              float64\n",
       "age                   float64\n",
       "education              object\n",
       "employment             object\n",
       "income                float64\n",
       "marital                object\n",
       "gender                 object\n",
       "readmis                object\n",
       "vitd_levels           float64\n",
       "doc_visits              int64\n",
       "full_meals_eaten        int64\n",
       "vitd_supp               int64\n",
       "soft_drink             object\n",
       "initial_admin          object\n",
       "highblood              object\n",
       "stroke                 object\n",
       "complication_risk      object\n",
       "overweight            float64\n",
       "arthritis              object\n",
       "diabetes               object\n",
       "hyperlipidemia         object\n",
       "backpain               object\n",
       "anxiety               float64\n",
       "allergic_rhinitis      object\n",
       "reflux_esophagitis     object\n",
       "asthma                 object\n",
       "services               object\n",
       "initial_days          float64\n",
       "totalcharge           float64\n",
       "additional_charges    float64\n",
       "item1                   int64\n",
       "item2                   int64\n",
       "item3                   int64\n",
       "item4                   int64\n",
       "item5                   int64\n",
       "item6                   int64\n",
       "item7                   int64\n",
       "item8                   int64\n",
       "dtype: object"
      ]
     },
     "execution_count": 8,
     "metadata": {},
     "output_type": "execute_result"
    }
   ],
   "source": [
    "# look at data types\n",
    "df.dtypes"
   ]
  },
  {
   "cell_type": "markdown",
   "metadata": {},
   "source": [
    "## Columns"
   ]
  },
  {
   "cell_type": "markdown",
   "metadata": {},
   "source": [
    "### Caseorder"
   ]
  },
  {
   "cell_type": "code",
   "execution_count": 9,
   "metadata": {},
   "outputs": [
    {
     "data": {
      "text/plain": [
       "10000"
      ]
     },
     "execution_count": 9,
     "metadata": {},
     "output_type": "execute_result"
    }
   ],
   "source": [
    "# look at caseorder column, verify unique values, there should be 10,000\n",
    "df.caseorder.nunique()"
   ]
  },
  {
   "cell_type": "markdown",
   "metadata": {},
   "source": [
    "### Customer_id"
   ]
  },
  {
   "cell_type": "code",
   "execution_count": 10,
   "metadata": {},
   "outputs": [
    {
     "data": {
      "text/plain": [
       "10000"
      ]
     },
     "execution_count": 10,
     "metadata": {},
     "output_type": "execute_result"
    }
   ],
   "source": [
    "# look at customer_id, verify unique count of values, should be 10,000\n",
    "df.customer_id.nunique()"
   ]
  },
  {
   "cell_type": "markdown",
   "metadata": {},
   "source": [
    "### Interaction"
   ]
  },
  {
   "cell_type": "code",
   "execution_count": 11,
   "metadata": {},
   "outputs": [
    {
     "data": {
      "text/plain": [
       "10000"
      ]
     },
     "execution_count": 11,
     "metadata": {},
     "output_type": "execute_result"
    }
   ],
   "source": [
    "# verify interaction has 10,000 unique count of values\n",
    "df.interaction.nunique()"
   ]
  },
  {
   "cell_type": "markdown",
   "metadata": {},
   "source": [
    "### Uid"
   ]
  },
  {
   "cell_type": "code",
   "execution_count": 12,
   "metadata": {},
   "outputs": [
    {
     "data": {
      "text/plain": [
       "10000"
      ]
     },
     "execution_count": 12,
     "metadata": {},
     "output_type": "execute_result"
    }
   ],
   "source": [
    "# verify uid has unique count of values, 10,000\n",
    "df.uid.nunique()"
   ]
  },
  {
   "cell_type": "markdown",
   "metadata": {},
   "source": [
    "### City"
   ]
  },
  {
   "cell_type": "code",
   "execution_count": 13,
   "metadata": {},
   "outputs": [
    {
     "data": {
      "text/plain": [
       "Houston        36\n",
       "San Antonio    26\n",
       "Springfield    22\n",
       "New York       21\n",
       "Miami          21\n",
       "               ..\n",
       "Drewryville     1\n",
       "Paradox         1\n",
       "Pennsauken      1\n",
       "Huxley          1\n",
       "Shepherd        1\n",
       "Name: city, Length: 6072, dtype: int64"
      ]
     },
     "execution_count": 13,
     "metadata": {},
     "output_type": "execute_result"
    }
   ],
   "source": [
    "# assess value counts of city column\n",
    "df.city.value_counts()"
   ]
  },
  {
   "cell_type": "markdown",
   "metadata": {},
   "source": [
    "### State"
   ]
  },
  {
   "cell_type": "code",
   "execution_count": 14,
   "metadata": {
    "scrolled": true
   },
   "outputs": [
    {
     "data": {
      "text/plain": [
       "TX    553\n",
       "CA    550\n",
       "PA    547\n",
       "NY    514\n",
       "IL    442\n",
       "OH    383\n",
       "MO    328\n",
       "FL    304\n",
       "VA    287\n",
       "IA    276\n",
       "MI    273\n",
       "MN    267\n",
       "NC    254\n",
       "GA    247\n",
       "KS    220\n",
       "WI    214\n",
       "KY    210\n",
       "WV    207\n",
       "OK    207\n",
       "IN    195\n",
       "TN    194\n",
       "AL    194\n",
       "WA    191\n",
       "AR    190\n",
       "NE    185\n",
       "CO    179\n",
       "NJ    176\n",
       "LA    173\n",
       "MA    149\n",
       "MS    134\n",
       "MD    131\n",
       "SC    128\n",
       "SD    123\n",
       "ME    122\n",
       "OR    122\n",
       "MT    112\n",
       "NM    110\n",
       "ID    109\n",
       "ND    108\n",
       "AZ    108\n",
       "CT     80\n",
       "NH     79\n",
       "UT     72\n",
       "AK     70\n",
       "VT     60\n",
       "WY     51\n",
       "NV     51\n",
       "PR     43\n",
       "HI     34\n",
       "DE     17\n",
       "RI     14\n",
       "DC     13\n",
       "Name: state, dtype: int64"
      ]
     },
     "execution_count": 14,
     "metadata": {},
     "output_type": "execute_result"
    }
   ],
   "source": [
    "# assess value counts of state column\n",
    "df.state.value_counts()"
   ]
  },
  {
   "cell_type": "markdown",
   "metadata": {},
   "source": [
    "### County"
   ]
  },
  {
   "cell_type": "code",
   "execution_count": 15,
   "metadata": {},
   "outputs": [
    {
     "name": "stdout",
     "output_type": "stream",
     "text": [
      "object\n",
      "------\n"
     ]
    },
    {
     "data": {
      "text/plain": [
       "Jefferson      118\n",
       "Washington     100\n",
       "Franklin        93\n",
       "Los Angeles     88\n",
       "Montgomery      80\n",
       "              ... \n",
       "Chicot           1\n",
       "Archer           1\n",
       "Erath            1\n",
       "Donley           1\n",
       "Montezuma        1\n",
       "Name: county, Length: 1607, dtype: int64"
      ]
     },
     "execution_count": 15,
     "metadata": {},
     "output_type": "execute_result"
    }
   ],
   "source": [
    "# assess value counts of county column\n",
    "# variable is suitable as categorical\n",
    "print(df.county.dtypes)\n",
    "print('------')\n",
    "df.county.value_counts()"
   ]
  },
  {
   "cell_type": "markdown",
   "metadata": {},
   "source": [
    "### Zip"
   ]
  },
  {
   "cell_type": "code",
   "execution_count": 177,
   "metadata": {},
   "outputs": [
    {
     "data": {
      "text/plain": [
       "9996     27563\n",
       "9997      8340\n",
       "9998     37171\n",
       "9999     57775\n",
       "10000    15108\n",
       "Name: zip, dtype: int64"
      ]
     },
     "execution_count": 177,
     "metadata": {},
     "output_type": "execute_result"
    }
   ],
   "source": [
    "# some zip codes are missing numbers\n",
    "df.zip.tail()"
   ]
  },
  {
   "cell_type": "code",
   "execution_count": 175,
   "metadata": {
    "scrolled": true
   },
   "outputs": [
    {
     "name": "stdout",
     "output_type": "stream",
     "text": [
      "2584\n",
      "5043\n",
      "2468\n",
      "2138\n",
      "3464\n",
      "8332\n",
      "7935\n",
      "7882\n",
      "3462\n",
      "4408\n",
      "4940\n",
      "2889\n",
      "3885\n",
      "2835\n",
      "3220\n",
      "4344\n",
      "669\n",
      "7030\n",
      "4449\n",
      "7630\n",
      "6119\n",
      "3446\n",
      "4926\n",
      "4344\n",
      "2364\n",
      "6401\n",
      "8876\n",
      "6263\n",
      "4626\n",
      "7028\n",
      "6498\n",
      "6264\n",
      "8004\n",
      "2838\n",
      "4530\n",
      "1832\n",
      "7716\n",
      "7460\n",
      "1940\n",
      "7055\n",
      "4988\n",
      "1562\n",
      "6375\n",
      "3227\n",
      "7311\n",
      "2745\n",
      "7857\n",
      "8098\n",
      "2072\n",
      "3830\n",
      "3864\n",
      "8858\n",
      "7935\n",
      "4847\n",
      "6033\n",
      "2341\n",
      "7410\n",
      "5660\n",
      "6281\n",
      "8023\n",
      "6498\n",
      "4347\n",
      "3870\n",
      "3745\n",
      "8201\n",
      "5252\n",
      "4765\n",
      "4669\n",
      "3079\n",
      "7014\n",
      "694\n",
      "5149\n",
      "8270\n",
      "5821\n",
      "751\n",
      "4928\n",
      "8317\n",
      "2452\n"
     ]
    }
   ],
   "source": [
    "# assess zip codes missing numbers\n",
    "for i in range(1000):\n",
    "    if len(str(df.zip.tolist()[i]))<5:\n",
    "        print(df.zip.tolist()[i])"
   ]
  },
  {
   "cell_type": "markdown",
   "metadata": {},
   "source": [
    "### Area"
   ]
  },
  {
   "cell_type": "code",
   "execution_count": 16,
   "metadata": {},
   "outputs": [
    {
     "name": "stdout",
     "output_type": "stream",
     "text": [
      "object\n",
      "Rural       3369\n",
      "Suburban    3328\n",
      "Urban       3303\n",
      "Name: area, dtype: int64\n",
      "------------\n"
     ]
    },
    {
     "data": {
      "image/png": "[encoded data removed]",
      "text/plain": [
       "<Figure size 432x288 with 1 Axes>"
      ]
     },
     "metadata": {
      "needs_background": "light"
     },
     "output_type": "display_data"
    }
   ],
   "source": [
    "# assess value counts of area column, we can see each is represented fairly\n",
    "print(df.area.dtypes)\n",
    "print(df.area.value_counts())\n",
    "print('------------')\n",
    "df.area.value_counts().plot(kind='bar')\n",
    "plt.show()"
   ]
  },
  {
   "cell_type": "markdown",
   "metadata": {},
   "source": [
    "### Timezone"
   ]
  },
  {
   "cell_type": "code",
   "execution_count": 18,
   "metadata": {},
   "outputs": [
    {
     "data": {
      "image/png": "[encoded data removed]",
      "text/plain": [
       "<Figure size 576x576 with 1 Axes>"
      ]
     },
     "metadata": {
      "needs_background": "light"
     },
     "output_type": "display_data"
    }
   ],
   "source": [
    "# df.timezone.hist(column=\"count\")\n",
    "plt.figure(figsize=(8,8))\n",
    "df.timezone.value_counts().sort_values().plot(kind='barh')\n",
    "# plt.xticks(rotation=45)\n",
    "plt.show()"
   ]
  },
  {
   "cell_type": "markdown",
   "metadata": {},
   "source": [
    "### Children"
   ]
  },
  {
   "cell_type": "code",
   "execution_count": 21,
   "metadata": {},
   "outputs": [
    {
     "data": {
      "text/plain": [
       "count    7412.000000\n",
       "mean        2.098219\n",
       "std         2.155427\n",
       "min         0.000000\n",
       "25%         0.000000\n",
       "50%         1.000000\n",
       "75%         3.000000\n",
       "max        10.000000\n",
       "Name: children, dtype: float64"
      ]
     },
     "execution_count": 21,
     "metadata": {},
     "output_type": "execute_result"
    }
   ],
   "source": [
    "# gather stats on data, datatype makes more sense as int\n",
    "df.children.describe()"
   ]
  },
  {
   "cell_type": "markdown",
   "metadata": {},
   "source": [
    "### Age"
   ]
  },
  {
   "cell_type": "code",
   "execution_count": 41,
   "metadata": {},
   "outputs": [
    {
     "name": "stdout",
     "output_type": "stream",
     "text": [
      "count    7586.000000\n",
      "mean       53.295676\n",
      "std        20.659182\n",
      "min        18.000000\n",
      "25%        35.000000\n",
      "50%        53.000000\n",
      "75%        71.000000\n",
      "max        89.000000\n",
      "Name: age, dtype: float64\n",
      "--------\n"
     ]
    },
    {
     "data": {
      "image/png": "[encoded data removed]",
      "text/plain": [
       "<Figure size 432x288 with 1 Axes>"
      ]
     },
     "metadata": {
      "needs_background": "light"
     },
     "output_type": "display_data"
    }
   ],
   "source": [
    "# data exists within reasonable bounds, data type should be int\n",
    "print(df.age.describe())\n",
    "print('--------')\n",
    "# data is uniformly distributed\n",
    "sns.histplot(data=df, x='age')\n",
    "plt.show()"
   ]
  },
  {
   "cell_type": "markdown",
   "metadata": {},
   "source": [
    "### Education"
   ]
  },
  {
   "cell_type": "code",
   "execution_count": 25,
   "metadata": {},
   "outputs": [
    {
     "name": "stdout",
     "output_type": "stream",
     "text": [
      "object\n"
     ]
    },
    {
     "data": {
      "image/png": "[encoded data removed]",
      "text/plain": [
       "<Figure size 432x288 with 1 Axes>"
      ]
     },
     "metadata": {
      "needs_background": "light"
     },
     "output_type": "display_data"
    }
   ],
   "source": [
    "# visualize data and type\n",
    "print(df.education.dtypes)\n",
    "df.education.value_counts().plot(kind='barh')\n",
    "plt.show()"
   ]
  },
  {
   "cell_type": "markdown",
   "metadata": {},
   "source": [
    "### Employment"
   ]
  },
  {
   "cell_type": "code",
   "execution_count": 26,
   "metadata": {},
   "outputs": [
    {
     "name": "stdout",
     "output_type": "stream",
     "text": [
      "object\n"
     ]
    },
    {
     "data": {
      "image/png": "[encoded data removed]",
      "text/plain": [
       "<Figure size 432x288 with 1 Axes>"
      ]
     },
     "metadata": {
      "needs_background": "light"
     },
     "output_type": "display_data"
    }
   ],
   "source": [
    "# visualize distribution and data type\n",
    "print(df.employment.dtypes)\n",
    "df.employment.value_counts().plot(kind='barh')\n",
    "plt.show()"
   ]
  },
  {
   "cell_type": "markdown",
   "metadata": {},
   "source": [
    "### Income"
   ]
  },
  {
   "cell_type": "code",
   "execution_count": 28,
   "metadata": {},
   "outputs": [
    {
     "data": {
      "text/plain": [
       "count      7536.000000\n",
       "mean      40484.438268\n",
       "std       28664.861050\n",
       "min         154.080000\n",
       "25%       19450.792500\n",
       "50%       33942.280000\n",
       "75%       54075.235000\n",
       "max      207249.130000\n",
       "Name: income, dtype: float64"
      ]
     },
     "execution_count": 28,
     "metadata": {},
     "output_type": "execute_result"
    }
   ],
   "source": [
    "# some data doesnt seem to exist within reasonable bounds, possible outliers\n",
    "df.income.describe()"
   ]
  },
  {
   "cell_type": "code",
   "execution_count": 32,
   "metadata": {},
   "outputs": [
    {
     "data": {
      "image/png": "[encoded data removed]",
      "text/plain": [
       "<Figure size 432x288 with 1 Axes>"
      ]
     },
     "metadata": {
      "needs_background": "light"
     },
     "output_type": "display_data"
    }
   ],
   "source": [
    "plt.title('Dist of Income')\n",
    "sns.histplot(df.income)\n",
    "plt.show()"
   ]
  },
  {
   "cell_type": "code",
   "execution_count": 37,
   "metadata": {},
   "outputs": [
    {
     "data": {
      "image/png": "[encoded data removed]",
      "text/plain": [
       "<Figure size 432x288 with 1 Axes>"
      ]
     },
     "metadata": {
      "needs_background": "light"
     },
     "output_type": "display_data"
    },
    {
     "data": {
      "text/plain": [
       "<Figure size 1440x648 with 0 Axes>"
      ]
     },
     "metadata": {},
     "output_type": "display_data"
    }
   ],
   "source": [
    "# visualizing outliers in income\n",
    "plt.title('Boxplot of Income')\n",
    "sns.boxplot(df.income)\n",
    "plt.figure(figsize=(16,9))\n",
    "plt.show()"
   ]
  },
  {
   "cell_type": "code",
   "execution_count": 38,
   "metadata": {},
   "outputs": [
    {
     "data": {
      "text/plain": [
       "822     154.08\n",
       "9809    300.79\n",
       "288     395.23\n",
       "111     401.86\n",
       "8659    493.04\n",
       "9129    695.22\n",
       "5894    702.16\n",
       "1216    826.01\n",
       "6300    881.07\n",
       "1035    881.40\n",
       "Name: income, dtype: float64"
      ]
     },
     "execution_count": 38,
     "metadata": {},
     "output_type": "execute_result"
    }
   ],
   "source": [
    "# taking a look at some obvious low income outliers, \n",
    "# could be from error when entered or these values may very well be possible\n",
    "df.income.nsmallest(10)"
   ]
  },
  {
   "cell_type": "markdown",
   "metadata": {},
   "source": [
    "Based on this visualization and quick assessment, the lower end values could be assumed outliers but are still within two standard deviations of the mean and are not technically anomalous."
   ]
  },
  {
   "cell_type": "markdown",
   "metadata": {},
   "source": [
    "### Marital"
   ]
  },
  {
   "cell_type": "code",
   "execution_count": 45,
   "metadata": {},
   "outputs": [
    {
     "data": {
      "image/png": "[encoded data removed]",
      "text/plain": [
       "<Figure size 432x288 with 1 Axes>"
      ]
     },
     "metadata": {
      "needs_background": "light"
     },
     "output_type": "display_data"
    }
   ],
   "source": [
    "# data is also uniformly distributed, suitable for categorical dtype\n",
    "df.marital.value_counts().plot(kind='barh')\n",
    "plt.show()"
   ]
  },
  {
   "cell_type": "markdown",
   "metadata": {},
   "source": [
    "### Gender"
   ]
  },
  {
   "cell_type": "code",
   "execution_count": 46,
   "metadata": {},
   "outputs": [
    {
     "data": {
      "text/plain": [
       "Female                  5018\n",
       "Male                    4768\n",
       "Prefer not to answer     214\n",
       "Name: gender, dtype: int64"
      ]
     },
     "execution_count": 46,
     "metadata": {},
     "output_type": "execute_result"
    }
   ],
   "source": [
    "# dtype currently object but can be categorical\n",
    "df.gender.value_counts()"
   ]
  },
  {
   "cell_type": "markdown",
   "metadata": {},
   "source": [
    "### Readmis"
   ]
  },
  {
   "cell_type": "code",
   "execution_count": 51,
   "metadata": {},
   "outputs": [
    {
     "data": {
      "text/plain": [
       "No     6331\n",
       "Yes    3669\n",
       "Name: readmis, dtype: int64"
      ]
     },
     "execution_count": 51,
     "metadata": {},
     "output_type": "execute_result"
    }
   ],
   "source": [
    "# dtype may be categorical or boolean\n",
    "df.readmis.value_counts()"
   ]
  },
  {
   "cell_type": "markdown",
   "metadata": {},
   "source": [
    "### Vit D Levels"
   ]
  },
  {
   "cell_type": "code",
   "execution_count": 60,
   "metadata": {},
   "outputs": [
    {
     "data": {
      "image/png": "[encoded data removed]",
      "text/plain": [
       "<Figure size 432x288 with 1 Axes>"
      ]
     },
     "metadata": {
      "needs_background": "light"
     },
     "output_type": "display_data"
    },
    {
     "name": "stdout",
     "output_type": "stream",
     "text": [
      "---------\n",
      "count    10000.000000\n",
      "mean        19.412675\n",
      "std          6.723277\n",
      "min          9.519012\n",
      "25%         16.513171\n",
      "50%         18.080560\n",
      "75%         19.789740\n",
      "max         53.019124\n",
      "Name: vitd_levels, dtype: float64\n",
      "---------\n"
     ]
    },
    {
     "data": {
      "image/png": "[encoded data removed]",
      "text/plain": [
       "<Figure size 432x288 with 1 Axes>"
      ]
     },
     "metadata": {
      "needs_background": "light"
     },
     "output_type": "display_data"
    },
    {
     "data": {
      "text/plain": [
       "<Figure size 1152x648 with 0 Axes>"
      ]
     },
     "metadata": {},
     "output_type": "display_data"
    }
   ],
   "source": [
    "# visualize dist of vit d levels, assert dtype can remain float\n",
    "sns.histplot(data=df, x='vitd_levels')\n",
    "plt.title('Dist of Vit D Levels')\n",
    "plt.show()\n",
    "print('---------')\n",
    "\n",
    "# assess descripion of data\n",
    "print(df.vitd_levels.describe())\n",
    "print('---------')\n",
    "\n",
    "# assess outliers\n",
    "plt.title('Boxplot of Vit D Levels')\n",
    "sns.boxplot(df.vitd_levels)\n",
    "# plt.figure(figsize=(16,9))\n",
    "plt.show()"
   ]
  },
  {
   "cell_type": "markdown",
   "metadata": {},
   "source": [
    "We arguably have a right skewed or bimodal distribution. Despite most values around 30 or above are shown as outliers, they have a steady normal distribution and thus there is no reason to remove these values. Further investigation is needed before separating these values."
   ]
  },
  {
   "cell_type": "markdown",
   "metadata": {},
   "source": [
    "### Doc_visits"
   ]
  },
  {
   "cell_type": "code",
   "execution_count": 62,
   "metadata": {},
   "outputs": [
    {
     "data": {
      "text/plain": [
       "count    10000.000000\n",
       "mean         5.012200\n",
       "std          1.045734\n",
       "min          1.000000\n",
       "25%          4.000000\n",
       "50%          5.000000\n",
       "75%          6.000000\n",
       "max          9.000000\n",
       "Name: doc_visits, dtype: float64"
      ]
     },
     "execution_count": 62,
     "metadata": {},
     "output_type": "execute_result"
    }
   ],
   "source": [
    "# view data details, suitable as float or int\n",
    "df.doc_visits.describe()"
   ]
  },
  {
   "cell_type": "code",
   "execution_count": 63,
   "metadata": {},
   "outputs": [
    {
     "data": {
      "text/plain": [
       "5    3823\n",
       "6    2436\n",
       "4    2385\n",
       "7     634\n",
       "3     595\n",
       "8      61\n",
       "2      58\n",
       "1       6\n",
       "9       2\n",
       "Name: doc_visits, dtype: int64"
      ]
     },
     "execution_count": 63,
     "metadata": {},
     "output_type": "execute_result"
    }
   ],
   "source": [
    "# verify suitable as int\n",
    "df.doc_visits.value_counts()"
   ]
  },
  {
   "cell_type": "markdown",
   "metadata": {},
   "source": [
    "### full_meals_eaten"
   ]
  },
  {
   "cell_type": "code",
   "execution_count": 68,
   "metadata": {},
   "outputs": [
    {
     "name": "stdout",
     "output_type": "stream",
     "text": [
      "count    10000.000000\n",
      "mean         1.001400\n",
      "std          1.008117\n",
      "min          0.000000\n",
      "25%          0.000000\n",
      "50%          1.000000\n",
      "75%          2.000000\n",
      "max          7.000000\n",
      "Name: full_meals_eaten, dtype: float64\n",
      "-------\n"
     ]
    },
    {
     "data": {
      "image/png": "[encoded data removed]",
      "text/plain": [
       "<Figure size 432x288 with 1 Axes>"
      ]
     },
     "metadata": {
      "needs_background": "light"
     },
     "output_type": "display_data"
    }
   ],
   "source": [
    "# assess distribution of meals eaten, verify suitable as int\n",
    "print(df.full_meals_eaten.describe())\n",
    "print('-------')\n",
    "df.full_meals_eaten.value_counts().plot(kind='barh')\n",
    "plt.show()"
   ]
  },
  {
   "cell_type": "markdown",
   "metadata": {},
   "source": [
    "### vitd_supp"
   ]
  },
  {
   "cell_type": "code",
   "execution_count": 73,
   "metadata": {},
   "outputs": [
    {
     "data": {
      "image/png": "[encoded data removed]",
      "text/plain": [
       "<Figure size 432x288 with 1 Axes>"
      ]
     },
     "metadata": {
      "needs_background": "light"
     },
     "output_type": "display_data"
    }
   ],
   "source": [
    "# assess value counts of Vitd supp, verify suitable as int\n",
    "df.vitd_supp.value_counts().plot(kind='barh')\n",
    "plt.title('VitD Supp')\n",
    "plt.show()"
   ]
  },
  {
   "cell_type": "code",
   "execution_count": 75,
   "metadata": {},
   "outputs": [
    {
     "data": {
      "text/plain": [
       "No     5589\n",
       "Yes    1944\n",
       "Name: soft_drink, dtype: int64"
      ]
     },
     "execution_count": 75,
     "metadata": {},
     "output_type": "execute_result"
    }
   ],
   "source": [
    "# suitable dtype as categorical or bool\n",
    "df.soft_drink.value_counts()"
   ]
  },
  {
   "cell_type": "code",
   "execution_count": 76,
   "metadata": {},
   "outputs": [
    {
     "data": {
      "text/plain": [
       "Emergency Admission      5060\n",
       "Elective Admission       2504\n",
       "Observation Admission    2436\n",
       "Name: initial_admin, dtype: int64"
      ]
     },
     "execution_count": 76,
     "metadata": {},
     "output_type": "execute_result"
    }
   ],
   "source": [
    "# verify data suitable as categorical\n",
    "df.initial_admin.value_counts()"
   ]
  },
  {
   "cell_type": "code",
   "execution_count": 77,
   "metadata": {},
   "outputs": [
    {
     "data": {
      "text/plain": [
       "No     5910\n",
       "Yes    4090\n",
       "Name: highblood, dtype: int64"
      ]
     },
     "execution_count": 77,
     "metadata": {},
     "output_type": "execute_result"
    }
   ],
   "source": [
    "# verify data suitable as categorical or bool\n",
    "df.highblood.value_counts()"
   ]
  },
  {
   "cell_type": "code",
   "execution_count": 78,
   "metadata": {},
   "outputs": [
    {
     "data": {
      "text/plain": [
       "No     8007\n",
       "Yes    1993\n",
       "Name: stroke, dtype: int64"
      ]
     },
     "execution_count": 78,
     "metadata": {},
     "output_type": "execute_result"
    }
   ],
   "source": [
    "# verify data suitable as categorical or bool\n",
    "df.stroke.value_counts()"
   ]
  },
  {
   "cell_type": "code",
   "execution_count": 79,
   "metadata": {},
   "outputs": [
    {
     "data": {
      "text/plain": [
       "Medium    4517\n",
       "High      3358\n",
       "Low       2125\n",
       "Name: complication_risk, dtype: int64"
      ]
     },
     "execution_count": 79,
     "metadata": {},
     "output_type": "execute_result"
    }
   ],
   "source": [
    "# verify data suitable as categorical\n",
    "df.complication_risk.value_counts()"
   ]
  },
  {
   "cell_type": "code",
   "execution_count": 80,
   "metadata": {},
   "outputs": [
    {
     "data": {
      "text/plain": [
       "1.0    6395\n",
       "0.0    2623\n",
       "Name: overweight, dtype: int64"
      ]
     },
     "execution_count": 80,
     "metadata": {},
     "output_type": "execute_result"
    }
   ],
   "source": [
    "# verify data suitable as categorical or bool\n",
    "df.overweight.value_counts()"
   ]
  },
  {
   "cell_type": "code",
   "execution_count": 81,
   "metadata": {},
   "outputs": [
    {
     "data": {
      "text/plain": [
       "No     6426\n",
       "Yes    3574\n",
       "Name: arthritis, dtype: int64"
      ]
     },
     "execution_count": 81,
     "metadata": {},
     "output_type": "execute_result"
    }
   ],
   "source": [
    "# verify data suitable as categorical or bool\n",
    "df.arthritis.value_counts()"
   ]
  },
  {
   "cell_type": "code",
   "execution_count": 82,
   "metadata": {},
   "outputs": [
    {
     "data": {
      "text/plain": [
       "No     7262\n",
       "Yes    2738\n",
       "Name: diabetes, dtype: int64"
      ]
     },
     "execution_count": 82,
     "metadata": {},
     "output_type": "execute_result"
    }
   ],
   "source": [
    "# verify data suitable as categorical or bool\n",
    "df.diabetes.value_counts()"
   ]
  },
  {
   "cell_type": "code",
   "execution_count": 83,
   "metadata": {},
   "outputs": [
    {
     "data": {
      "text/plain": [
       "No     6628\n",
       "Yes    3372\n",
       "Name: hyperlipidemia, dtype: int64"
      ]
     },
     "execution_count": 83,
     "metadata": {},
     "output_type": "execute_result"
    }
   ],
   "source": [
    "# verify data suitable as categorical\n",
    "df.hyperlipidemia.value_counts()"
   ]
  },
  {
   "cell_type": "code",
   "execution_count": 84,
   "metadata": {},
   "outputs": [
    {
     "data": {
      "text/plain": [
       "No     5886\n",
       "Yes    4114\n",
       "Name: backpain, dtype: int64"
      ]
     },
     "execution_count": 84,
     "metadata": {},
     "output_type": "execute_result"
    }
   ],
   "source": [
    "# verify data suitable as categorical or bool\n",
    "df.backpain.value_counts()"
   ]
  },
  {
   "cell_type": "code",
   "execution_count": 85,
   "metadata": {},
   "outputs": [
    {
     "data": {
      "text/plain": [
       "0.0    6110\n",
       "1.0    2906\n",
       "Name: anxiety, dtype: int64"
      ]
     },
     "execution_count": 85,
     "metadata": {},
     "output_type": "execute_result"
    }
   ],
   "source": [
    "# verify data suitable as categorical or bool\n",
    "df.anxiety.value_counts()"
   ]
  },
  {
   "cell_type": "code",
   "execution_count": 86,
   "metadata": {},
   "outputs": [
    {
     "data": {
      "text/plain": [
       "No     6059\n",
       "Yes    3941\n",
       "Name: allergic_rhinitis, dtype: int64"
      ]
     },
     "execution_count": 86,
     "metadata": {},
     "output_type": "execute_result"
    }
   ],
   "source": [
    "# verify data suitable as categorical or bool\n",
    "df.allergic_rhinitis.value_counts()"
   ]
  },
  {
   "cell_type": "code",
   "execution_count": 87,
   "metadata": {},
   "outputs": [
    {
     "data": {
      "text/plain": [
       "No     7107\n",
       "Yes    2893\n",
       "Name: asthma, dtype: int64"
      ]
     },
     "execution_count": 87,
     "metadata": {},
     "output_type": "execute_result"
    }
   ],
   "source": [
    "# verify data suitable as categorical or bool\n",
    "df.asthma.value_counts()"
   ]
  },
  {
   "cell_type": "code",
   "execution_count": 88,
   "metadata": {},
   "outputs": [
    {
     "data": {
      "text/plain": [
       "Blood Work     5265\n",
       "Intravenous    3130\n",
       "CT Scan        1225\n",
       "MRI             380\n",
       "Name: services, dtype: int64"
      ]
     },
     "execution_count": 88,
     "metadata": {},
     "output_type": "execute_result"
    }
   ],
   "source": [
    "# verify data suitable as categorical\n",
    "df.services.value_counts()"
   ]
  },
  {
   "cell_type": "code",
   "execution_count": 92,
   "metadata": {},
   "outputs": [
    {
     "data": {
      "image/png": "[encoded data removed]",
      "text/plain": [
       "<Figure size 432x288 with 1 Axes>"
      ]
     },
     "metadata": {
      "needs_background": "light"
     },
     "output_type": "display_data"
    },
    {
     "name": "stdout",
     "output_type": "stream",
     "text": [
      "------\n"
     ]
    },
    {
     "data": {
      "text/plain": [
       "count    8944.000000\n",
       "mean       34.432082\n",
       "std        26.287050\n",
       "min         1.001981\n",
       "25%         7.911709\n",
       "50%        34.446941\n",
       "75%        61.124654\n",
       "max        71.981486\n",
       "Name: initial_days, dtype: float64"
      ]
     },
     "execution_count": 92,
     "metadata": {},
     "output_type": "execute_result"
    }
   ],
   "source": [
    "# visualize distribution, verify data suitable as int\n",
    "sns.histplot(data=df, x='initial_days')\n",
    "plt.title('Dist of Initial Days')\n",
    "plt.show()\n",
    "print('------')\n",
    "df.initial_days.describe()"
   ]
  },
  {
   "cell_type": "code",
   "execution_count": 104,
   "metadata": {},
   "outputs": [
    {
     "data": {
      "image/png": "[encoded data removed]",
      "text/plain": [
       "<Figure size 432x288 with 1 Axes>"
      ]
     },
     "metadata": {
      "needs_background": "light"
     },
     "output_type": "display_data"
    },
    {
     "name": "stdout",
     "output_type": "stream",
     "text": [
      "------\n",
      "count    10000.000000\n",
      "mean      5891.538261\n",
      "std       3377.558136\n",
      "min       1256.751699\n",
      "25%       3253.239465\n",
      "50%       5852.250564\n",
      "75%       7614.989701\n",
      "max      21524.224210\n",
      "Name: totalcharge, dtype: float64\n",
      "-----\n"
     ]
    }
   ],
   "source": [
    "# verify data suitable as float\n",
    "# amounts are within reasonable bounds\n",
    "sns.histplot(data=df, x='totalcharge')\n",
    "plt.title('Dist of Total Charge')\n",
    "plt.show()\n",
    "print('------')\n",
    "#verify data is within reasonable bounds\n",
    "print(df.totalcharge.describe())\n",
    "print('-----')"
   ]
  },
  {
   "cell_type": "code",
   "execution_count": 103,
   "metadata": {},
   "outputs": [
    {
     "data": {
      "image/png": "[encoded data removed]",
      "text/plain": [
       "<Figure size 432x288 with 1 Axes>"
      ]
     },
     "metadata": {
      "needs_background": "light"
     },
     "output_type": "display_data"
    },
    {
     "name": "stdout",
     "output_type": "stream",
     "text": [
      "count    10000.000000\n",
      "mean     12934.528586\n",
      "std       6542.601544\n",
      "min       3125.702716\n",
      "25%       7986.487642\n",
      "50%      11573.979365\n",
      "75%      15626.491032\n",
      "max      30566.073130\n",
      "Name: additional_charges, dtype: float64\n"
     ]
    }
   ],
   "source": [
    "# verify data suitable as float\n",
    "# amounts are within reasonable bounds\n",
    "sns.histplot(data=df, x='additional_charges')\n",
    "plt.title('Dist of Addtl Charges')\n",
    "plt.show()\n",
    "\n",
    "print(df.additional_charges.describe())"
   ]
  },
  {
   "cell_type": "code",
   "execution_count": 105,
   "metadata": {},
   "outputs": [
    {
     "data": {
      "text/plain": [
       "4    3455\n",
       "3    3404\n",
       "5    1377\n",
       "2    1315\n",
       "6     225\n",
       "1     213\n",
       "7      10\n",
       "8       1\n",
       "Name: item1, dtype: int64"
      ]
     },
     "execution_count": 105,
     "metadata": {},
     "output_type": "execute_result"
    }
   ],
   "source": [
    "# verify data only consists of 1-8 options, dtype suitable for categorical\n",
    "df.item1.value_counts()"
   ]
  },
  {
   "cell_type": "code",
   "execution_count": 106,
   "metadata": {},
   "outputs": [
    {
     "data": {
      "text/plain": [
       "3    3439\n",
       "4    3351\n",
       "5    1421\n",
       "2    1360\n",
       "1     213\n",
       "6     204\n",
       "7      12\n",
       "Name: item2, dtype: int64"
      ]
     },
     "execution_count": 106,
     "metadata": {},
     "output_type": "execute_result"
    }
   ],
   "source": [
    "# verify data only consists of 1-8 options, dtype suitable for categorical\n",
    "df.item2.value_counts()"
   ]
  },
  {
   "cell_type": "code",
   "execution_count": 107,
   "metadata": {},
   "outputs": [
    {
     "data": {
      "text/plain": [
       "4    3464\n",
       "3    3379\n",
       "5    1358\n",
       "2    1356\n",
       "6     220\n",
       "1     211\n",
       "7      11\n",
       "8       1\n",
       "Name: item3, dtype: int64"
      ]
     },
     "execution_count": 107,
     "metadata": {},
     "output_type": "execute_result"
    }
   ],
   "source": [
    "# verify data only consists of 1-8 options, dtype suitable for categorical\n",
    "df.item3.value_counts()"
   ]
  },
  {
   "cell_type": "code",
   "execution_count": 108,
   "metadata": {},
   "outputs": [
    {
     "data": {
      "text/plain": [
       "3    3422\n",
       "4    3394\n",
       "5    1388\n",
       "2    1346\n",
       "6     231\n",
       "1     207\n",
       "7      12\n",
       "Name: item4, dtype: int64"
      ]
     },
     "execution_count": 108,
     "metadata": {},
     "output_type": "execute_result"
    }
   ],
   "source": [
    "# verify data only consists of 1-8 options, dtype suitable for categorical\n",
    "df.item4.value_counts()"
   ]
  },
  {
   "cell_type": "code",
   "execution_count": 109,
   "metadata": {},
   "outputs": [
    {
     "data": {
      "text/plain": [
       "4    3446\n",
       "3    3423\n",
       "2    1380\n",
       "5    1308\n",
       "6     219\n",
       "1     211\n",
       "7      13\n",
       "Name: item5, dtype: int64"
      ]
     },
     "execution_count": 109,
     "metadata": {},
     "output_type": "execute_result"
    }
   ],
   "source": [
    "# verify data only consists of 1-8 options, dtype suitable for categorical\n",
    "df.item5.value_counts()"
   ]
  },
  {
   "cell_type": "code",
   "execution_count": 110,
   "metadata": {},
   "outputs": [
    {
     "data": {
      "text/plain": [
       "4    3464\n",
       "3    3371\n",
       "5    1403\n",
       "2    1319\n",
       "6     220\n",
       "1     213\n",
       "7      10\n",
       "Name: item6, dtype: int64"
      ]
     },
     "execution_count": 110,
     "metadata": {},
     "output_type": "execute_result"
    }
   ],
   "source": [
    "# verify data only consists of 1-8 options, dtype suitable for categorical\n",
    "df.item6.value_counts()"
   ]
  },
  {
   "cell_type": "code",
   "execution_count": 111,
   "metadata": {},
   "outputs": [
    {
     "data": {
      "text/plain": [
       "4    3487\n",
       "3    3456\n",
       "2    1345\n",
       "5    1274\n",
       "1     215\n",
       "6     212\n",
       "7      11\n",
       "Name: item7, dtype: int64"
      ]
     },
     "execution_count": 111,
     "metadata": {},
     "output_type": "execute_result"
    }
   ],
   "source": [
    "# verify data only consists of 1-8 options, dtype suitable for categorical\n",
    "df.item7.value_counts()"
   ]
  },
  {
   "cell_type": "code",
   "execution_count": 112,
   "metadata": {},
   "outputs": [
    {
     "data": {
      "text/plain": [
       "3    3401\n",
       "4    3337\n",
       "5    1429\n",
       "2    1391\n",
       "6     221\n",
       "1     209\n",
       "7      12\n",
       "Name: item8, dtype: int64"
      ]
     },
     "execution_count": 112,
     "metadata": {},
     "output_type": "execute_result"
    }
   ],
   "source": [
    "# verify data only consists of 1-8 options, dtype suitable for categorical\n",
    "df.item8.value_counts()"
   ]
  },
  {
   "cell_type": "markdown",
   "metadata": {},
   "source": [
    "-----\n",
    "**Analyzing Nulls**"
   ]
  },
  {
   "cell_type": "code",
   "execution_count": 157,
   "metadata": {},
   "outputs": [
    {
     "data": {
      "text/plain": [
       "caseorder                0\n",
       "customer_id              0\n",
       "interaction              0\n",
       "uid                      0\n",
       "city                     0\n",
       "state                    0\n",
       "county                   0\n",
       "zip                      0\n",
       "lat                      0\n",
       "lng                      0\n",
       "population               0\n",
       "area                     0\n",
       "timezone                 0\n",
       "job                      0\n",
       "children              2588\n",
       "age                   2414\n",
       "education                0\n",
       "employment               0\n",
       "income                2464\n",
       "marital                  0\n",
       "gender                   0\n",
       "readmis                  0\n",
       "vitd_levels              0\n",
       "doc_visits               0\n",
       "full_meals_eaten         0\n",
       "vitd_supp                0\n",
       "soft_drink            2467\n",
       "initial_admin            0\n",
       "highblood                0\n",
       "stroke                   0\n",
       "complication_risk        0\n",
       "overweight             982\n",
       "arthritis                0\n",
       "diabetes                 0\n",
       "hyperlipidemia           0\n",
       "backpain                 0\n",
       "anxiety                984\n",
       "allergic_rhinitis        0\n",
       "reflux_esophagitis       0\n",
       "asthma                   0\n",
       "services                 0\n",
       "initial_days          1056\n",
       "totalcharge              0\n",
       "additional_charges       0\n",
       "item1                    0\n",
       "item2                    0\n",
       "item3                    0\n",
       "item4                    0\n",
       "item5                    0\n",
       "item6                    0\n",
       "item7                    0\n",
       "item8                    0\n",
       "dtype: int64"
      ]
     },
     "execution_count": 157,
     "metadata": {},
     "output_type": "execute_result"
    }
   ],
   "source": [
    "# get a general print out of null values\n",
    "df.isnull().sum()"
   ]
  },
  {
   "cell_type": "code",
   "execution_count": 146,
   "metadata": {},
   "outputs": [
    {
     "data": {
      "text/html": [
       "<div>\n",
       "<style scoped>\n",
       "    .dataframe tbody tr th:only-of-type {\n",
       "        vertical-align: middle;\n",
       "    }\n",
       "\n",
       "    .dataframe tbody tr th {\n",
       "        vertical-align: top;\n",
       "    }\n",
       "\n",
       "    .dataframe thead th {\n",
       "        text-align: right;\n",
       "    }\n",
       "</style>\n",
       "<table border=\"1\" class=\"dataframe\">\n",
       "  <thead>\n",
       "    <tr style=\"text-align: right;\">\n",
       "      <th></th>\n",
       "      <th>children</th>\n",
       "      <th>age</th>\n",
       "      <th>income</th>\n",
       "      <th>soft_drink</th>\n",
       "      <th>overweight</th>\n",
       "      <th>anxiety</th>\n",
       "      <th>initial_days</th>\n",
       "    </tr>\n",
       "  </thead>\n",
       "  <tbody>\n",
       "    <tr>\n",
       "      <th>1</th>\n",
       "      <td>1.0</td>\n",
       "      <td>53.0</td>\n",
       "      <td>86575.93</td>\n",
       "      <td>NaN</td>\n",
       "      <td>0.0</td>\n",
       "      <td>1.0</td>\n",
       "      <td>10.585770</td>\n",
       "    </tr>\n",
       "    <tr>\n",
       "      <th>2</th>\n",
       "      <td>3.0</td>\n",
       "      <td>51.0</td>\n",
       "      <td>46805.99</td>\n",
       "      <td>No</td>\n",
       "      <td>1.0</td>\n",
       "      <td>NaN</td>\n",
       "      <td>15.129562</td>\n",
       "    </tr>\n",
       "    <tr>\n",
       "      <th>3</th>\n",
       "      <td>3.0</td>\n",
       "      <td>53.0</td>\n",
       "      <td>14370.14</td>\n",
       "      <td>No</td>\n",
       "      <td>1.0</td>\n",
       "      <td>NaN</td>\n",
       "      <td>4.772177</td>\n",
       "    </tr>\n",
       "    <tr>\n",
       "      <th>4</th>\n",
       "      <td>0.0</td>\n",
       "      <td>78.0</td>\n",
       "      <td>39741.49</td>\n",
       "      <td>No</td>\n",
       "      <td>0.0</td>\n",
       "      <td>NaN</td>\n",
       "      <td>1.714879</td>\n",
       "    </tr>\n",
       "    <tr>\n",
       "      <th>5</th>\n",
       "      <td>NaN</td>\n",
       "      <td>22.0</td>\n",
       "      <td>1209.56</td>\n",
       "      <td>Yes</td>\n",
       "      <td>0.0</td>\n",
       "      <td>0.0</td>\n",
       "      <td>1.254807</td>\n",
       "    </tr>\n",
       "  </tbody>\n",
       "</table>\n",
       "</div>"
      ],
      "text/plain": [
       "   children   age    income soft_drink  overweight  anxiety  initial_days\n",
       "1       1.0  53.0  86575.93        NaN         0.0      1.0     10.585770\n",
       "2       3.0  51.0  46805.99         No         1.0      NaN     15.129562\n",
       "3       3.0  53.0  14370.14         No         1.0      NaN      4.772177\n",
       "4       0.0  78.0  39741.49         No         0.0      NaN      1.714879\n",
       "5       NaN  22.0   1209.56        Yes         0.0      0.0      1.254807"
      ]
     },
     "execution_count": 146,
     "metadata": {},
     "output_type": "execute_result"
    }
   ],
   "source": [
    "# get list of columns with null values\n",
    "null_cols = df.columns[df.isna().any()].tolist()\n",
    "null_cols\n",
    "\n",
    "df[null_cols].head()"
   ]
  },
  {
   "cell_type": "code",
   "execution_count": 156,
   "metadata": {},
   "outputs": [
    {
     "name": "stdout",
     "output_type": "stream",
     "text": [
      "Total percentage of null values for children ---> 25.88\n",
      "Total percentage of null values for age ---> 24.14\n",
      "Total percentage of null values for income ---> 24.64\n",
      "Total percentage of null values for soft_drink ---> 24.67\n",
      "Total percentage of null values for overweight ---> 9.82\n",
      "Total percentage of null values for anxiety ---> 9.84\n",
      "Total percentage of null values for initial_days ---> 10.56\n"
     ]
    }
   ],
   "source": [
    "for col in null_cols:\n",
    "    print('Total percentage of null values for', col, '--->', df[col].isna().sum()/len(df[col])*100)"
   ]
  },
  {
   "cell_type": "markdown",
   "metadata": {},
   "source": [
    "The children, age, income and soft_drink column have almost 25% of null values while overweight, anxiety and initial_days column are only missing roughly 10%. In any case, all columns have more than 5% missing values and thus we cannot simply drop them. The next step is to analyze the distributions where necessary and choose a valid imputation method."
   ]
  },
  {
   "cell_type": "code",
   "execution_count": 133,
   "metadata": {},
   "outputs": [
    {
     "data": {
      "image/png": "[encoded data removed]",
      "text/plain": [
       "<Figure size 432x288 with 1 Axes>"
      ]
     },
     "metadata": {
      "needs_background": "light"
     },
     "output_type": "display_data"
    },
    {
     "name": "stdout",
     "output_type": "stream",
     "text": [
      "----------------------------------------------------\n"
     ]
    },
    {
     "data": {
      "image/png": "[encoded data removed]",
      "text/plain": [
       "<Figure size 432x288 with 1 Axes>"
      ]
     },
     "metadata": {
      "needs_background": "light"
     },
     "output_type": "display_data"
    },
    {
     "name": "stdout",
     "output_type": "stream",
     "text": [
      "----------------------------------------------------\n"
     ]
    },
    {
     "data": {
      "image/png": "[encoded data removed]",
      "text/plain": [
       "<Figure size 432x288 with 1 Axes>"
      ]
     },
     "metadata": {
      "needs_background": "light"
     },
     "output_type": "display_data"
    },
    {
     "name": "stdout",
     "output_type": "stream",
     "text": [
      "----------------------------------------------------\n"
     ]
    },
    {
     "data": {
      "image/png": "[encoded data removed]",
      "text/plain": [
       "<Figure size 360x360 with 1 Axes>"
      ]
     },
     "metadata": {
      "needs_background": "light"
     },
     "output_type": "display_data"
    },
    {
     "name": "stdout",
     "output_type": "stream",
     "text": [
      "----------------------------------------------------\n"
     ]
    },
    {
     "data": {
      "image/png": "[encoded data removed]",
      "text/plain": [
       "<Figure size 432x288 with 1 Axes>"
      ]
     },
     "metadata": {
      "needs_background": "light"
     },
     "output_type": "display_data"
    },
    {
     "name": "stdout",
     "output_type": "stream",
     "text": [
      "----------------------------------------------------\n"
     ]
    },
    {
     "data": {
      "image/png": "[encoded data removed]",
      "text/plain": [
       "<Figure size 432x288 with 1 Axes>"
      ]
     },
     "metadata": {
      "needs_background": "light"
     },
     "output_type": "display_data"
    },
    {
     "name": "stdout",
     "output_type": "stream",
     "text": [
      "----------------------------------------------------\n"
     ]
    }
   ],
   "source": [
    "# analyze distribution of null columns\n",
    "for i in df[null_cols]:\n",
    "        if df[i].dtypes == 'object':\n",
    "            sns.catplot(data=df, x=i, kind='count')\n",
    "            \n",
    "        else:\n",
    "            sns.distplot(df[i])\n",
    "            plt.xticks(fontsize= 12)\n",
    "            plt.yticks(fontsize=12)\n",
    "            plt.ylabel(\"Count\", fontsize= 13, fontweight=\"bold\")\n",
    "            plt.xlabel(i, fontsize=13, fontweight=\"bold\")\n",
    "            plt.title('Distribution of '+i)\n",
    "            plt.show()\n",
    "            print('----------------------------------------------------')"
   ]
  },
  {
   "cell_type": "markdown",
   "metadata": {},
   "source": [
    "***Null Column Takeaways:***\n",
    "\\\n",
    "Null columns type of distribution and imputation:\\\n",
    "    - **Children:** We are working with discrete data points and thus the best method of imputation for this column is using the mode.\\\n",
    "    - **Age:** Uniform Distribution, I want to go ahead impute with the mean since the data is symmetric\\\n",
    "    - **Income:** We have a skewed distribution and thus the best method for this would be using the median.\\\n",
    "    - **Overweight:** Working with categorical data it is best to use the mode.\\\n",
    "    - **Anxiety:** Again working with categorical data it is best to use the mode.\\\n",
    "    - **Initial_Days:** Here we have a bimodal distribution and thus the best recommendation is to use mode or median. Since our data points for this column are floats, I will use the median.\n"
   ]
  },
  {
   "cell_type": "code",
   "execution_count": 166,
   "metadata": {},
   "outputs": [
    {
     "data": {
      "text/plain": [
       "False"
      ]
     },
     "execution_count": 166,
     "metadata": {},
     "output_type": "execute_result"
    }
   ],
   "source": [
    "# analyze duplicates, there are no duplicates\n",
    "df.duplicated().any()"
   ]
  },
  {
   "cell_type": "markdown",
   "metadata": {},
   "source": [
    "# D1: Describe Data Quality Findings"
   ]
  },
  {
   "cell_type": "markdown",
   "metadata": {},
   "source": [
    "**Zip**: This column had numerous entries that were not 5 digit zip codes. Analysis found some zip codes were missing 1 or more numbers. There is no way of knowing which numbers are missing. If we guess some 0s were stripped in the beginning since they were stored as integers, we would have to assume the zip codes with missing numbers lost the first or two digits because they were 0s and thus we can address this.\n",
    "\n",
    "**Population**: This column entered as a float and can be changed to int.\n",
    "\n",
    "**Timezone**: This column is not organized and condensed to the standard US time zones and thus I will change this to standard time zones. \n",
    "\n",
    "**Children**: This column is unnecessarily stored as a float and thus can be changed to int. This column also has 25% of values missing. The distribution is skewed right and there may be a pattern in higher ages not being entered.\n",
    "\n",
    "**Age**: This column is also unnecessarily stores as a float and thus will be changed to int. This column is also missing 25% of the data. Since it is a uniformed distribution it is best to impute missing values with the mean.\n",
    "\n",
    "**Income**: Again, this column is also unnecessarily stores as a float and thus will be changed to int. This column is also missing 25% of values and will be imputed using the median.\n",
    "\n",
    "**Marital**: This column is entered as string but should be changed to cateogrical.\n",
    "\n",
    "**Gender**: This column is entered as string but should be changed to cateogrical. According to the data dictionary, gender should have three options, female, male and nonbinary. In the dataframe the three options are female, male and prefer not to answer. Generally we cannot presume that \"prefer not to answer\" should be listed as nonbinary but for the sake of this assignment, I will assume the data dictionary is referencing that the prefer not to answer option should be nonbinary.\n",
    "\n",
    "\n",
    "**Readmis**: This column is stored as an object but should instead be boolean.\n",
    "\n",
    "**vitd_levels**: This column is appropriately stored as a float but  has an excessive amount of decimal points and thus it makes more sense to round to 2 decimal points.\n",
    "\n",
    "**soft_drink**: This column is stored as object but should be boolean.\n",
    "\n",
    "**initial_admin**: Stored as object but more appropriate as categorical.\n",
    "\n",
    "**highblood**: Stored as object but more appropriate as bool.\n",
    "\n",
    "**stroke**: Stored as object but more appropriate as bool.\n",
    "\n",
    "**complication_risk**: Stored as object but more appropriate as bool.\n",
    "\n",
    "**overweight**: Stored as float but more appropriate as bool. For missing values I will impute using the mode.\n",
    "\n",
    "**arthritis**: Stored as object but more appropriate as bool.\n",
    "\n",
    "**diabetes**: Stored as object but more appropriate as bool.\n",
    "\n",
    "**hyperlipidemia**: Stored as object but more appropriate as bool.\n",
    "\n",
    "**backpain**: Stored as object but more appropriate as bool.\n",
    "\n",
    "**anxiety**: Stored as float but more appropriate as bool. For missing values I will impute using the mode.\n",
    "\n",
    "**allergic_rhinitis**: Stored as object but more appropriate as bool.\n",
    "\n",
    "**reflux_esophagitis**: Stored as object but more appropriate as bool.\n",
    "\n",
    "**asthma**: Stored as object but more appropriate as bool.\n",
    "\n",
    "**services**: Stored as object but more appropriate as categorical.\n",
    "\n",
    "**initial_days**: Stored as float but is more appropriate as an int. For missing values I will impute using the median.\n",
    "\n",
    "**totalcharge**: Has an excessive amount of decimal points and thus I will change it to two decimal points.\n",
    "\n",
    "**additional_charges**: Also has an excessive amount of decimal points and thus I will change it to two decimal points.\n",
    "\n",
    "**item1**: Column is stored as int but needs to be changed to categorical.\n",
    "\n",
    "**item2**: Column is stored as int but needs to be changed to categorical.\n",
    "\n",
    "**item3**: Column is stored as int but needs to be changed to categorical.\n",
    "\n",
    "**item4**: Column is stored as int but needs to be changed to categorical.\n",
    "\n",
    "**item5**: Column is stored as int but needs to be changed to categorical.\n",
    "\n",
    "**item6**: Column is stored as int but needs to be changed to categorical.\n",
    "\n",
    "**item7**: Column is stored as int but needs to be changed to categorical.\n",
    "\n",
    "**item8**: Column is stored as int but needs to be changed to categorical."
   ]
  },
  {
   "cell_type": "markdown",
   "metadata": {},
   "source": [
    "# D2: Mitigating data quality issues\n",
    " - The zip column will be properly corrected so that all zip entries are uniformed to be five digits long. I will input a 0 (or 00 as needed) in the beginning of the zip code for any entry containing less than five digits. This will undo the loss of data that occurred when this column was set as an int which likely stripped the 0s from the column.\n",
    " - The timezone column will be standardized to the standard nine timezones. I will do this by separating the unique entries into a list using the variable as the correct timezone and loop through to replace the entry in the row. From there I will change the datatype to categorical.\n",
    " - The gender column wil be changed for prefer not to say entries to reflect nonbinary instead. This is only an assumption for this class. In general, more information would be needed. I will map the string prefer not to say and change it to nonbinary.\n",
    " - The columns readmis, soft_drink, highblood, stroke, complication_risk, overweight, arthritis, diabetes, hyperlipidema, backpain, anxiety, allergic_rhinitis, reflux_esophagitis and asthma are all columns that need to be changed to boolean since they only have two possible answers and all either use the standard 'yes' or 'no' or 1 or 0. A boolean datatype is the most appropriate for these columns. I will make a list, loop through and use the astype() function to change the datatype to boolean.\n",
    " - The columns vitd_levels, totalcharge and additional_charges will be rounded to two decimal places as six decimal places is too excessive. I will also add these to a list and loop through the dataframe applying the numpy .round() function.\n",
    " - The columns population, children, age, income and initial_days are all set as float currently but make more sense being an int data type. I will again add these names to a list, loop through my dataframe and apply the astype() function to change their datatype to int.\n",
    " - The columns marital, gender, initial_admin, services, item1, item2, item3, item4, item5, item6, item7 and item8 are all more suitable as a categorical datatype. I will also add these column names to a list that I will use to loop through the dataframe and use the astype() function to change the datatype to categorical.\n",
    " - No anomalous data could be confirmed without further investigation. Suspicious columns such as income are within reasonable bounds.\n",
    " - Columns with null values are children, age, income, overweight, anxiety and initial_days. The missing values per column are more than 5% and thus should not just be dropped. I will impute using the appropriate method for the data's distribution by first making missing values Nan then imputing using appropriate method (mean, median or mode)."
   ]
  },
  {
   "cell_type": "markdown",
   "metadata": {},
   "source": [
    "# D3: Summarizing Data Cleaning Results\n",
    "The data cleaning methods will not only make the data easier to read and work with, but will enhance future analysis on this data. We are also ensuring data integrity but applying the correct data types to columns as needed. Columns with missing or incorrect data such as zip, will now be fully corrected and able to be analyzed with data integrity in mind. The dataframe also retained it's shape and no data was lost."
   ]
  },
  {
   "cell_type": "markdown",
   "metadata": {},
   "source": [
    "# D4: Code used for Data Cleaning"
   ]
  },
  {
   "cell_type": "code",
   "execution_count": 323,
   "metadata": {},
   "outputs": [],
   "source": [
    "df = pd.read_csv('medical_raw_data.csv', index_col=[0])"
   ]
  },
  {
   "cell_type": "code",
   "execution_count": 324,
   "metadata": {},
   "outputs": [],
   "source": [
    "##\n",
    "# lowercase columns\n",
    "df.columns = map(str.lower, df.columns)\n",
    "\n",
    "# fill nulls first so there are no issues when changing datatypes\n",
    "mode = ['children', 'overweight', 'anxiety']\n",
    "mean = ['age']\n",
    "median = ['income', 'initial_days']\n",
    "for col in mode:\n",
    "    df[col].fillna(df[col].mode()[0], inplace=True)\n",
    "for col in mean:\n",
    "    df[col].fillna(df[col].mean(), inplace=True)\n",
    "for col in median:\n",
    "    df[col].fillna(df[col].median(), inplace=True)\n",
    "    \n",
    "# change timezone column entries before changing data type\n",
    "tz_dict = {\n",
    "    \"America/Puerto_Rico\" : \"US - Puerto Rico\",\n",
    "    \"America/New_York\": \"US - Eastern\",\n",
    "    \"America/Detroit\" : \"US - Eastern\",\n",
    "    \"America/Indiana/Indianapolis\" : \"US - Eastern\",\n",
    "    \"America/Indiana/Vevay\" : \"US - Eastern\",\n",
    "    \"America/Indiana/Vincennes\" : \"US - Eastern\",\n",
    "    \"America/Kentucky/Louisville\" : \"US - Eastern\",\n",
    "    \"America/Toronto\" : \"US - Eastern\",\n",
    "    \"America/Indiana/Marengo\" : \"US - Eastern\",\n",
    "    \"America/Indiana/Winamac\" : \"US - Eastern\",\n",
    "    \"America/Chicago\" : \"US - Central\", \n",
    "    \"America/Menominee\" : \"US - Central\",\n",
    "    \"America/Indiana/Knox\" : \"US - Central\",\n",
    "    \"America/Indiana/Tell_City\" : \"US - Central\",\n",
    "    \"America/North_Dakota/Beulah\" : \"US - Central\",\n",
    "    \"America/North_Dakota/New_Salem\" : \"US - Central\",\n",
    "    \"America/Denver\" : \"US - Mountain\",\n",
    "    \"America/Boise\" : \"US - Mountain\",\n",
    "    \"America/Phoenix\" : \"US - Arizona\",\n",
    "    \"America/Los_Angeles\" : \"US - Pacific\",\n",
    "    \"America/Nome\" : \"US - Alaskan\",\n",
    "    \"America/Anchorage\" : \"US - Alaskan\",\n",
    "    \"America/Sitka\" : \"US - Alaskan\",\n",
    "    \"America/Yakutat\" : \"US - Alaskan\",\n",
    "    \"America/Adak\" : \"US - Aleutian\",\n",
    "    \"Pacific/Honolulu\" : 'US - Hawaiian'\n",
    "    }\n",
    "df.timezone.replace(tz_dict, inplace=True)\n",
    "\n",
    "# change prefer not to answer to nonbinary as per the data dictionary\n",
    "df.gender.replace({\n",
    "    'Prefer not to answer' : 'nonbinary'  \n",
    "}, inplace=True)\n",
    "\n",
    "\n",
    "# convert zip column to str, then fill 0s in entries\n",
    "df.zip = df.zip.astype('str').str.zfill(5)\n",
    "\n",
    "# change columns to boolean data type\n",
    "to_bool = ['readmis', 'soft_drink', 'highblood', 'stroke',\n",
    "           'complication_risk', 'overweight', 'arthritis', 'diabetes',\n",
    "          'hyperlipidemia', 'backpain', 'anxiety', 'allergic_rhinitis',\n",
    "          'reflux_esophagitis', 'asthma']\n",
    "for col in to_bool:\n",
    "    df[col] = df[col].astype('bool')\n",
    "\n",
    "# round entries in columns to only have two decimal places\n",
    "round_num = ['vitd_levels', 'totalcharge', 'additional_charges']\n",
    "for col in round_num:\n",
    "    df[col] = round(df[col], 2)\n",
    "\n",
    "# change columns to integer data type\n",
    "to_int = ['population', 'children', 'age','income',\n",
    "         'initial_days']\n",
    "for col in to_int:\n",
    "    df[col] = df[col].astype('int32')\n",
    "\n",
    "# change columns to categorical data type\n",
    "to_cat = ['marital', 'gender', 'initial_admin', 'services',\n",
    "          'item1', 'item2', 'item3', 'item4', 'item5', \n",
    "          'item6', 'item7', 'item8', 'timezone']\n",
    "for col in to_cat:\n",
    "    df[col] = df[col].astype('category')\n",
    "    \n",
    "    \n",
    "    \n",
    "# make columns more readable   \n",
    "columns = ['case_order', 'customer_id', 'interaction', 'uid', 'city', \n",
    "           'state', 'county', 'zip', 'latitude', 'longitude', 'population', 'area', \n",
    "           'timezone', 'job', 'children', 'age', 'education', 'employment', \n",
    "           'income', 'marital', 'gender', 'readmission', 'vitd_levels', 'doc_visits', \n",
    "           'full_meals_eaten', 'vitd_supplement', 'soft_drink', 'initial_admin', \n",
    "           'high_blood', 'stroke', 'complication_risk', 'overweight', 'arthritis', \n",
    "           'diabetes', 'hyperlipidemia', 'backpain', 'anxiety', 'allergic_rhinitis',\n",
    "           'reflux_esophagitis', 'asthma', 'services_received', 'initial_days', 'total_charge', \n",
    "           'additional_charges', 'item1', 'item2', 'item3', 'item4', 'item5', 'item6', \n",
    "           'item7', 'item8']\n",
    "\n",
    "df.columns = columns"
   ]
  },
  {
   "cell_type": "code",
   "execution_count": 325,
   "metadata": {},
   "outputs": [
    {
     "data": {
      "text/plain": [
       "caseorder                int64\n",
       "customer_id             object\n",
       "interaction             object\n",
       "uid                     object\n",
       "city                    object\n",
       "state                   object\n",
       "county                  object\n",
       "zip                     object\n",
       "lat                    float64\n",
       "lng                    float64\n",
       "population               int32\n",
       "area                    object\n",
       "timezone              category\n",
       "job                     object\n",
       "children                 int32\n",
       "age                      int32\n",
       "education               object\n",
       "employment              object\n",
       "income                   int32\n",
       "marital               category\n",
       "gender                category\n",
       "readmis                   bool\n",
       "vitd_levels            float64\n",
       "doc_visits               int64\n",
       "full_meals_eaten         int64\n",
       "vitd_supp                int64\n",
       "soft_drink                bool\n",
       "initial_admin         category\n",
       "highblood                 bool\n",
       "stroke                    bool\n",
       "complication_risk         bool\n",
       "overweight                bool\n",
       "arthritis                 bool\n",
       "diabetes                  bool\n",
       "hyperlipidemia            bool\n",
       "backpain                  bool\n",
       "anxiety                   bool\n",
       "allergic_rhinitis         bool\n",
       "reflux_esophagitis        bool\n",
       "asthma                    bool\n",
       "services              category\n",
       "initial_days             int32\n",
       "totalcharge            float64\n",
       "additional_charges     float64\n",
       "item1                 category\n",
       "item2                 category\n",
       "item3                 category\n",
       "item4                 category\n",
       "item5                 category\n",
       "item6                 category\n",
       "item7                 category\n",
       "item8                 category\n",
       "dtype: object"
      ]
     },
     "execution_count": 325,
     "metadata": {},
     "output_type": "execute_result"
    }
   ],
   "source": [
    "df.dtypes"
   ]
  },
  {
   "cell_type": "markdown",
   "metadata": {},
   "source": [
    "# D5: CSV file"
   ]
  },
  {
   "cell_type": "code",
   "execution_count": 368,
   "metadata": {},
   "outputs": [],
   "source": [
    "df.to_csv('cleaned_medical_data.csv', index=False)"
   ]
  },
  {
   "cell_type": "markdown",
   "metadata": {},
   "source": [
    "# D6: Summarize Limitations of Cleaning Process\n",
    "\n",
    "Some data/domain knowledge was limited particularly with how `gender` should have been ideally handled. Another example was knowing what a normal vitamin D level should look like. A quick search makes our data look like most of the patients had severely low vitamin D. Things like this could be confirmed to maintain data integrity. Also further investigating into a possible cause of missing values may also provide more insight. Is there a pattern of missing values? For example, why are there almost no values for vitamin D levels between 30 and 40? This could all provide limitations.\n"
   ]
  },
  {
   "cell_type": "markdown",
   "metadata": {},
   "source": [
    "# D7: How the Limitations Could Affect Analysis\n",
    "- Without having in depth knowledge of the domain and data, it is possible some changes were made incorrectly. For example, perhaps 'prefer not to say' was not meant to mean nonbinary. Without knowing the normal and abnormal range for vitamin D levels prevents us from conducting proper analysis. From a quick glance, most patients seem to have severely low vitamin D, but is there a possibly correlation between this and readmissions or is the data collected incorrectly? What is the explanation for the distribution not following the central limit theorem?\n",
    "\n"
   ]
  },
  {
   "cell_type": "markdown",
   "metadata": {},
   "source": [
    "-------\n",
    "# E1.  Identify principal components, provide output of principal components loading matrix.\n",
    "\n",
    "**Principal Components** are quantifiable numeric and continous variables. The following meet the criterai for further analysis.\n",
    "- population\n",
    "- income\n",
    "- vitd_levels\n",
    "- totalcharge\n",
    "- additional_charges\n",
    "- latitude\n",
    "- longitude"
   ]
  },
  {
   "cell_type": "code",
   "execution_count": 369,
   "metadata": {},
   "outputs": [
    {
     "data": {
      "text/html": [
       "<div>\n",
       "<style scoped>\n",
       "    .dataframe tbody tr th:only-of-type {\n",
       "        vertical-align: middle;\n",
       "    }\n",
       "\n",
       "    .dataframe tbody tr th {\n",
       "        vertical-align: top;\n",
       "    }\n",
       "\n",
       "    .dataframe thead th {\n",
       "        text-align: right;\n",
       "    }\n",
       "</style>\n",
       "<table border=\"1\" class=\"dataframe\">\n",
       "  <thead>\n",
       "    <tr style=\"text-align: right;\">\n",
       "      <th></th>\n",
       "      <th>population</th>\n",
       "      <th>income</th>\n",
       "      <th>vitd_levels</th>\n",
       "      <th>total_charge</th>\n",
       "      <th>additional_charges</th>\n",
       "      <th>latitude</th>\n",
       "      <th>longitude</th>\n",
       "    </tr>\n",
       "  </thead>\n",
       "  <tbody>\n",
       "    <tr>\n",
       "      <th>1</th>\n",
       "      <td>2951</td>\n",
       "      <td>86575</td>\n",
       "      <td>17.80</td>\n",
       "      <td>3191.05</td>\n",
       "      <td>17939.40</td>\n",
       "      <td>34.34960</td>\n",
       "      <td>-86.72508</td>\n",
       "    </tr>\n",
       "    <tr>\n",
       "      <th>2</th>\n",
       "      <td>11303</td>\n",
       "      <td>46805</td>\n",
       "      <td>18.99</td>\n",
       "      <td>4214.91</td>\n",
       "      <td>17613.00</td>\n",
       "      <td>30.84513</td>\n",
       "      <td>-85.22907</td>\n",
       "    </tr>\n",
       "    <tr>\n",
       "      <th>3</th>\n",
       "      <td>17125</td>\n",
       "      <td>14370</td>\n",
       "      <td>17.42</td>\n",
       "      <td>2177.59</td>\n",
       "      <td>17505.19</td>\n",
       "      <td>43.54321</td>\n",
       "      <td>-96.63772</td>\n",
       "    </tr>\n",
       "    <tr>\n",
       "      <th>4</th>\n",
       "      <td>2162</td>\n",
       "      <td>39741</td>\n",
       "      <td>17.42</td>\n",
       "      <td>2465.12</td>\n",
       "      <td>12993.44</td>\n",
       "      <td>43.89744</td>\n",
       "      <td>-93.51479</td>\n",
       "    </tr>\n",
       "    <tr>\n",
       "      <th>5</th>\n",
       "      <td>5287</td>\n",
       "      <td>1209</td>\n",
       "      <td>16.87</td>\n",
       "      <td>1885.66</td>\n",
       "      <td>3716.53</td>\n",
       "      <td>37.59894</td>\n",
       "      <td>-76.88958</td>\n",
       "    </tr>\n",
       "  </tbody>\n",
       "</table>\n",
       "</div>"
      ],
      "text/plain": [
       "   population  income  vitd_levels  total_charge  additional_charges  \\\n",
       "1        2951   86575        17.80       3191.05            17939.40   \n",
       "2       11303   46805        18.99       4214.91            17613.00   \n",
       "3       17125   14370        17.42       2177.59            17505.19   \n",
       "4        2162   39741        17.42       2465.12            12993.44   \n",
       "5        5287    1209        16.87       1885.66             3716.53   \n",
       "\n",
       "   latitude  longitude  \n",
       "1  34.34960  -86.72508  \n",
       "2  30.84513  -85.22907  \n",
       "3  43.54321  -96.63772  \n",
       "4  43.89744  -93.51479  \n",
       "5  37.59894  -76.88958  "
      ]
     },
     "execution_count": 369,
     "metadata": {},
     "output_type": "execute_result"
    }
   ],
   "source": [
    "# first assign continuous variables\n",
    "cont_var = ['population', 'income', 'vitd_levels', 'total_charge',\n",
    "            'additional_charges', 'latitude', 'longitude']\n",
    "\n",
    "cont_df = df[cont_var]\n",
    "cont_df.head()"
   ]
  },
  {
   "cell_type": "code",
   "execution_count": 370,
   "metadata": {},
   "outputs": [
    {
     "data": {
      "text/plain": [
       "PCA(n_components=7)"
      ]
     },
     "execution_count": 370,
     "metadata": {},
     "output_type": "execute_result"
    }
   ],
   "source": [
    "# normalizing the continuous df\n",
    "normalized_df = (cont_df - cont_df.mean())/cont_df.std()\n",
    "\n",
    "n_components = cont_df.shape[1]\n",
    "\n",
    "pca = PCA(n_components=n_components)\n",
    "pca"
   ]
  },
  {
   "cell_type": "code",
   "execution_count": 378,
   "metadata": {},
   "outputs": [],
   "source": [
    "pca.fit(normalized_df)\n",
    "pca_df = pd.DataFrame(pca.transform(normalized_df),\n",
    "                     columns = ['PC1', 'PC2', 'PC3', 'PC4', 'PC5',\n",
    "                               'PC6', 'PC7'])"
   ]
  },
  {
   "cell_type": "code",
   "execution_count": 379,
   "metadata": {},
   "outputs": [
    {
     "data": {
      "text/html": [
       "<div>\n",
       "<style scoped>\n",
       "    .dataframe tbody tr th:only-of-type {\n",
       "        vertical-align: middle;\n",
       "    }\n",
       "\n",
       "    .dataframe tbody tr th {\n",
       "        vertical-align: top;\n",
       "    }\n",
       "\n",
       "    .dataframe thead th {\n",
       "        text-align: right;\n",
       "    }\n",
       "</style>\n",
       "<table border=\"1\" class=\"dataframe\">\n",
       "  <thead>\n",
       "    <tr style=\"text-align: right;\">\n",
       "      <th></th>\n",
       "      <th>PC1</th>\n",
       "      <th>PC2</th>\n",
       "      <th>PC3</th>\n",
       "      <th>PC4</th>\n",
       "      <th>PC5</th>\n",
       "      <th>PC6</th>\n",
       "      <th>PC7</th>\n",
       "    </tr>\n",
       "  </thead>\n",
       "  <tbody>\n",
       "    <tr>\n",
       "      <th>0</th>\n",
       "      <td>-0.703839</td>\n",
       "      <td>0.465210</td>\n",
       "      <td>-0.238096</td>\n",
       "      <td>2.038090</td>\n",
       "      <td>0.632657</td>\n",
       "      <td>-0.638528</td>\n",
       "      <td>0.394897</td>\n",
       "    </tr>\n",
       "    <tr>\n",
       "      <th>1</th>\n",
       "      <td>-0.334067</td>\n",
       "      <td>1.239184</td>\n",
       "      <td>-0.418637</td>\n",
       "      <td>0.739360</td>\n",
       "      <td>-0.325454</td>\n",
       "      <td>-0.768276</td>\n",
       "      <td>0.320015</td>\n",
       "    </tr>\n",
       "    <tr>\n",
       "      <th>2</th>\n",
       "      <td>-0.956618</td>\n",
       "      <td>-0.461342</td>\n",
       "      <td>0.346580</td>\n",
       "      <td>-0.377249</td>\n",
       "      <td>-1.270919</td>\n",
       "      <td>0.735359</td>\n",
       "      <td>0.584500</td>\n",
       "    </tr>\n",
       "    <tr>\n",
       "      <th>3</th>\n",
       "      <td>-0.955710</td>\n",
       "      <td>-1.040234</td>\n",
       "      <td>-0.024622</td>\n",
       "      <td>0.073653</td>\n",
       "      <td>0.023297</td>\n",
       "      <td>0.270639</td>\n",
       "      <td>0.499586</td>\n",
       "    </tr>\n",
       "    <tr>\n",
       "      <th>4</th>\n",
       "      <td>-1.164622</td>\n",
       "      <td>0.184187</td>\n",
       "      <td>-1.132482</td>\n",
       "      <td>-1.934729</td>\n",
       "      <td>0.324531</td>\n",
       "      <td>-0.068938</td>\n",
       "      <td>0.553750</td>\n",
       "    </tr>\n",
       "  </tbody>\n",
       "</table>\n",
       "</div>"
      ],
      "text/plain": [
       "        PC1       PC2       PC3       PC4       PC5       PC6       PC7\n",
       "0 -0.703839  0.465210 -0.238096  2.038090  0.632657 -0.638528  0.394897\n",
       "1 -0.334067  1.239184 -0.418637  0.739360 -0.325454 -0.768276  0.320015\n",
       "2 -0.956618 -0.461342  0.346580 -0.377249 -1.270919  0.735359  0.584500\n",
       "3 -0.955710 -1.040234 -0.024622  0.073653  0.023297  0.270639  0.499586\n",
       "4 -1.164622  0.184187 -1.132482 -1.934729  0.324531 -0.068938  0.553750"
      ]
     },
     "execution_count": 379,
     "metadata": {},
     "output_type": "execute_result"
    }
   ],
   "source": [
    "pca_df.head()"
   ]
  },
  {
   "cell_type": "code",
   "execution_count": 383,
   "metadata": {},
   "outputs": [
    {
     "ename": "ValueError",
     "evalue": "Shape of passed values is (7, 7), indices imply (7, 52)",
     "output_type": "error",
     "traceback": [
      "\u001b[0;31m---------------------------------------------------------------------------\u001b[0m",
      "\u001b[0;31mValueError\u001b[0m                                Traceback (most recent call last)",
      "\u001b[0;32m/opt/homebrew/anaconda3/lib/python3.8/site-packages/pandas/core/internals/managers.py\u001b[0m in \u001b[0;36mcreate_block_manager_from_blocks\u001b[0;34m(blocks, axes)\u001b[0m\n\u001b[1;32m   1674\u001b[0m                 blocks = [\n\u001b[0;32m-> 1675\u001b[0;31m                     make_block(\n\u001b[0m\u001b[1;32m   1676\u001b[0m                         \u001b[0mvalues\u001b[0m\u001b[0;34m=\u001b[0m\u001b[0mblocks\u001b[0m\u001b[0;34m[\u001b[0m\u001b[0;36m0\u001b[0m\u001b[0;34m]\u001b[0m\u001b[0;34m,\u001b[0m \u001b[0mplacement\u001b[0m\u001b[0;34m=\u001b[0m\u001b[0mslice\u001b[0m\u001b[0;34m(\u001b[0m\u001b[0;36m0\u001b[0m\u001b[0;34m,\u001b[0m \u001b[0mlen\u001b[0m\u001b[0;34m(\u001b[0m\u001b[0maxes\u001b[0m\u001b[0;34m[\u001b[0m\u001b[0;36m0\u001b[0m\u001b[0;34m]\u001b[0m\u001b[0;34m)\u001b[0m\u001b[0;34m)\u001b[0m\u001b[0;34m,\u001b[0m \u001b[0mndim\u001b[0m\u001b[0;34m=\u001b[0m\u001b[0;36m2\u001b[0m\u001b[0;34m\u001b[0m\u001b[0;34m\u001b[0m\u001b[0m\n",
      "\u001b[0;32m/opt/homebrew/anaconda3/lib/python3.8/site-packages/pandas/core/internals/blocks.py\u001b[0m in \u001b[0;36mmake_block\u001b[0;34m(values, placement, klass, ndim, dtype)\u001b[0m\n\u001b[1;32m   2750\u001b[0m \u001b[0;34m\u001b[0m\u001b[0m\n\u001b[0;32m-> 2751\u001b[0;31m     \u001b[0;32mreturn\u001b[0m \u001b[0mklass\u001b[0m\u001b[0;34m(\u001b[0m\u001b[0mvalues\u001b[0m\u001b[0;34m,\u001b[0m \u001b[0mndim\u001b[0m\u001b[0;34m=\u001b[0m\u001b[0mndim\u001b[0m\u001b[0;34m,\u001b[0m \u001b[0mplacement\u001b[0m\u001b[0;34m=\u001b[0m\u001b[0mplacement\u001b[0m\u001b[0;34m)\u001b[0m\u001b[0;34m\u001b[0m\u001b[0;34m\u001b[0m\u001b[0m\n\u001b[0m\u001b[1;32m   2752\u001b[0m \u001b[0;34m\u001b[0m\u001b[0m\n",
      "\u001b[0;32m/opt/homebrew/anaconda3/lib/python3.8/site-packages/pandas/core/internals/blocks.py\u001b[0m in \u001b[0;36m__init__\u001b[0;34m(self, values, placement, ndim)\u001b[0m\n\u001b[1;32m    141\u001b[0m         \u001b[0;32mif\u001b[0m \u001b[0mself\u001b[0m\u001b[0;34m.\u001b[0m\u001b[0m_validate_ndim\u001b[0m \u001b[0;32mand\u001b[0m \u001b[0mself\u001b[0m\u001b[0;34m.\u001b[0m\u001b[0mndim\u001b[0m \u001b[0;32mand\u001b[0m \u001b[0mlen\u001b[0m\u001b[0;34m(\u001b[0m\u001b[0mself\u001b[0m\u001b[0;34m.\u001b[0m\u001b[0mmgr_locs\u001b[0m\u001b[0;34m)\u001b[0m \u001b[0;34m!=\u001b[0m \u001b[0mlen\u001b[0m\u001b[0;34m(\u001b[0m\u001b[0mself\u001b[0m\u001b[0;34m.\u001b[0m\u001b[0mvalues\u001b[0m\u001b[0;34m)\u001b[0m\u001b[0;34m:\u001b[0m\u001b[0;34m\u001b[0m\u001b[0;34m\u001b[0m\u001b[0m\n\u001b[0;32m--> 142\u001b[0;31m             raise ValueError(\n\u001b[0m\u001b[1;32m    143\u001b[0m                 \u001b[0;34mf\"Wrong number of items passed {len(self.values)}, \"\u001b[0m\u001b[0;34m\u001b[0m\u001b[0;34m\u001b[0m\u001b[0m\n",
      "\u001b[0;31mValueError\u001b[0m: Wrong number of items passed 7, placement implies 52",
      "\nDuring handling of the above exception, another exception occurred:\n",
      "\u001b[0;31mValueError\u001b[0m                                Traceback (most recent call last)",
      "\u001b[0;32m<ipython-input-383-6075e1156833>\u001b[0m in \u001b[0;36m<module>\u001b[0;34m\u001b[0m\n\u001b[0;32m----> 1\u001b[0;31m loadings = pd.DataFrame(pca_array,\n\u001b[0m\u001b[1;32m      2\u001b[0m                        \u001b[0mcolumns\u001b[0m\u001b[0;34m=\u001b[0m\u001b[0mcolumns\u001b[0m\u001b[0;34m,\u001b[0m\u001b[0;34m\u001b[0m\u001b[0;34m\u001b[0m\u001b[0m\n\u001b[1;32m      3\u001b[0m                        index=cont_df.columns)\n\u001b[1;32m      4\u001b[0m \u001b[0mloadings\u001b[0m\u001b[0;34m\u001b[0m\u001b[0;34m\u001b[0m\u001b[0m\n",
      "\u001b[0;32m/opt/homebrew/anaconda3/lib/python3.8/site-packages/pandas/core/frame.py\u001b[0m in \u001b[0;36m__init__\u001b[0;34m(self, data, index, columns, dtype, copy)\u001b[0m\n\u001b[1;32m    556\u001b[0m                 \u001b[0mmgr\u001b[0m \u001b[0;34m=\u001b[0m \u001b[0minit_dict\u001b[0m\u001b[0;34m(\u001b[0m\u001b[0;34m{\u001b[0m\u001b[0mdata\u001b[0m\u001b[0;34m.\u001b[0m\u001b[0mname\u001b[0m\u001b[0;34m:\u001b[0m \u001b[0mdata\u001b[0m\u001b[0;34m}\u001b[0m\u001b[0;34m,\u001b[0m \u001b[0mindex\u001b[0m\u001b[0;34m,\u001b[0m \u001b[0mcolumns\u001b[0m\u001b[0;34m,\u001b[0m \u001b[0mdtype\u001b[0m\u001b[0;34m=\u001b[0m\u001b[0mdtype\u001b[0m\u001b[0;34m)\u001b[0m\u001b[0;34m\u001b[0m\u001b[0;34m\u001b[0m\u001b[0m\n\u001b[1;32m    557\u001b[0m             \u001b[0;32melse\u001b[0m\u001b[0;34m:\u001b[0m\u001b[0;34m\u001b[0m\u001b[0;34m\u001b[0m\u001b[0m\n\u001b[0;32m--> 558\u001b[0;31m                 \u001b[0mmgr\u001b[0m \u001b[0;34m=\u001b[0m \u001b[0minit_ndarray\u001b[0m\u001b[0;34m(\u001b[0m\u001b[0mdata\u001b[0m\u001b[0;34m,\u001b[0m \u001b[0mindex\u001b[0m\u001b[0;34m,\u001b[0m \u001b[0mcolumns\u001b[0m\u001b[0;34m,\u001b[0m \u001b[0mdtype\u001b[0m\u001b[0;34m=\u001b[0m\u001b[0mdtype\u001b[0m\u001b[0;34m,\u001b[0m \u001b[0mcopy\u001b[0m\u001b[0;34m=\u001b[0m\u001b[0mcopy\u001b[0m\u001b[0;34m)\u001b[0m\u001b[0;34m\u001b[0m\u001b[0;34m\u001b[0m\u001b[0m\n\u001b[0m\u001b[1;32m    559\u001b[0m \u001b[0;34m\u001b[0m\u001b[0m\n\u001b[1;32m    560\u001b[0m         \u001b[0;31m# For data is list-like, or Iterable (will consume into list)\u001b[0m\u001b[0;34m\u001b[0m\u001b[0;34m\u001b[0m\u001b[0;34m\u001b[0m\u001b[0m\n",
      "\u001b[0;32m/opt/homebrew/anaconda3/lib/python3.8/site-packages/pandas/core/internals/construction.py\u001b[0m in \u001b[0;36minit_ndarray\u001b[0;34m(values, index, columns, dtype, copy)\u001b[0m\n\u001b[1;32m    236\u001b[0m         \u001b[0mblock_values\u001b[0m \u001b[0;34m=\u001b[0m \u001b[0;34m[\u001b[0m\u001b[0mvalues\u001b[0m\u001b[0;34m]\u001b[0m\u001b[0;34m\u001b[0m\u001b[0;34m\u001b[0m\u001b[0m\n\u001b[1;32m    237\u001b[0m \u001b[0;34m\u001b[0m\u001b[0m\n\u001b[0;32m--> 238\u001b[0;31m     \u001b[0;32mreturn\u001b[0m \u001b[0mcreate_block_manager_from_blocks\u001b[0m\u001b[0;34m(\u001b[0m\u001b[0mblock_values\u001b[0m\u001b[0;34m,\u001b[0m \u001b[0;34m[\u001b[0m\u001b[0mcolumns\u001b[0m\u001b[0;34m,\u001b[0m \u001b[0mindex\u001b[0m\u001b[0;34m]\u001b[0m\u001b[0;34m)\u001b[0m\u001b[0;34m\u001b[0m\u001b[0;34m\u001b[0m\u001b[0m\n\u001b[0m\u001b[1;32m    239\u001b[0m \u001b[0;34m\u001b[0m\u001b[0m\n\u001b[1;32m    240\u001b[0m \u001b[0;34m\u001b[0m\u001b[0m\n",
      "\u001b[0;32m/opt/homebrew/anaconda3/lib/python3.8/site-packages/pandas/core/internals/managers.py\u001b[0m in \u001b[0;36mcreate_block_manager_from_blocks\u001b[0;34m(blocks, axes)\u001b[0m\n\u001b[1;32m   1685\u001b[0m         \u001b[0mblocks\u001b[0m \u001b[0;34m=\u001b[0m \u001b[0;34m[\u001b[0m\u001b[0mgetattr\u001b[0m\u001b[0;34m(\u001b[0m\u001b[0mb\u001b[0m\u001b[0;34m,\u001b[0m \u001b[0;34m\"values\"\u001b[0m\u001b[0;34m,\u001b[0m \u001b[0mb\u001b[0m\u001b[0;34m)\u001b[0m \u001b[0;32mfor\u001b[0m \u001b[0mb\u001b[0m \u001b[0;32min\u001b[0m \u001b[0mblocks\u001b[0m\u001b[0;34m]\u001b[0m\u001b[0;34m\u001b[0m\u001b[0;34m\u001b[0m\u001b[0m\n\u001b[1;32m   1686\u001b[0m         \u001b[0mtot_items\u001b[0m \u001b[0;34m=\u001b[0m \u001b[0msum\u001b[0m\u001b[0;34m(\u001b[0m\u001b[0mb\u001b[0m\u001b[0;34m.\u001b[0m\u001b[0mshape\u001b[0m\u001b[0;34m[\u001b[0m\u001b[0;36m0\u001b[0m\u001b[0;34m]\u001b[0m \u001b[0;32mfor\u001b[0m \u001b[0mb\u001b[0m \u001b[0;32min\u001b[0m \u001b[0mblocks\u001b[0m\u001b[0;34m)\u001b[0m\u001b[0;34m\u001b[0m\u001b[0;34m\u001b[0m\u001b[0m\n\u001b[0;32m-> 1687\u001b[0;31m         \u001b[0;32mraise\u001b[0m \u001b[0mconstruction_error\u001b[0m\u001b[0;34m(\u001b[0m\u001b[0mtot_items\u001b[0m\u001b[0;34m,\u001b[0m \u001b[0mblocks\u001b[0m\u001b[0;34m[\u001b[0m\u001b[0;36m0\u001b[0m\u001b[0;34m]\u001b[0m\u001b[0;34m.\u001b[0m\u001b[0mshape\u001b[0m\u001b[0;34m[\u001b[0m\u001b[0;36m1\u001b[0m\u001b[0;34m:\u001b[0m\u001b[0;34m]\u001b[0m\u001b[0;34m,\u001b[0m \u001b[0maxes\u001b[0m\u001b[0;34m,\u001b[0m \u001b[0me\u001b[0m\u001b[0;34m)\u001b[0m\u001b[0;34m\u001b[0m\u001b[0;34m\u001b[0m\u001b[0m\n\u001b[0m\u001b[1;32m   1688\u001b[0m \u001b[0;34m\u001b[0m\u001b[0m\n\u001b[1;32m   1689\u001b[0m \u001b[0;34m\u001b[0m\u001b[0m\n",
      "\u001b[0;31mValueError\u001b[0m: Shape of passed values is (7, 7), indices imply (7, 52)"
     ]
    }
   ],
   "source": [
    "loadings = pd.DataFrame(pca.components_.T,\n",
    "                       columns=columns,\n",
    "                       index=cont_df.columns)\n",
    "loadings"
   ]
  },
  {
   "cell_type": "code",
   "execution_count": null,
   "metadata": {},
   "outputs": [],
   "source": [
    "# relationship MIGHT exist but doesnt mean"
   ]
  },
  {
   "cell_type": "code",
   "execution_count": 348,
   "metadata": {},
   "outputs": [],
   "source": [
    "cov_matrix = np.dot(normalized_df.T, normalized_df)/cont_df.shape[0]\n",
    "eigenvalues = [np.dot(eigenvector.T, np.dot(cov_matrix, eigenvector)) for eigenvector in pca.components_]"
   ]
  },
  {
   "cell_type": "code",
   "execution_count": 359,
   "metadata": {},
   "outputs": [
    {
     "data": {
      "image/png": "[encoded data removed]",
      "text/plain": [
       "<Figure size 432x288 with 1 Axes>"
      ]
     },
     "metadata": {
      "needs_background": "light"
     },
     "output_type": "display_data"
    }
   ],
   "source": [
    "plt.plot(eigenvalues, linewidth=3)\n",
    "# plt.plot([0],[1], linestyle='dashed', \n",
    "#          color='red', linewidth=1)\n",
    "plt.xlabel('Number of Components')\n",
    "plt.ylabel('eigenvalue')\n",
    "plt.show()"
   ]
  },
  {
   "cell_type": "code",
   "execution_count": null,
   "metadata": {},
   "outputs": [],
   "source": []
  },
  {
   "cell_type": "code",
   "execution_count": null,
   "metadata": {},
   "outputs": [],
   "source": []
  },
  {
   "cell_type": "code",
   "execution_count": null,
   "metadata": {},
   "outputs": [],
   "source": []
  },
  {
   "cell_type": "code",
   "execution_count": null,
   "metadata": {},
   "outputs": [],
   "source": []
  },
  {
   "cell_type": "code",
   "execution_count": 134,
   "metadata": {},
   "outputs": [
    {
     "data": {
      "image/png": "[encoded data removed]",
      "text/plain": [
       "<Figure size 432x288 with 1 Axes>"
      ]
     },
     "metadata": {
      "needs_background": "light"
     },
     "output_type": "display_data"
    }
   ],
   "source": [
    "plt.imshow(df.isnull(), cmap='hot', aspect='auto')\n",
    "plt.show()"
   ]
  },
  {
   "cell_type": "code",
   "execution_count": 164,
   "metadata": {},
   "outputs": [
    {
     "data": {
      "text/plain": [
       "<Figure size 1440x648 with 0 Axes>"
      ]
     },
     "metadata": {},
     "output_type": "display_data"
    },
    {
     "data": {
      "image/png": "[encoded data removed]",
      "text/plain": [
       "<Figure size 1800x720 with 2 Axes>"
      ]
     },
     "metadata": {
      "needs_background": "light"
     },
     "output_type": "display_data"
    }
   ],
   "source": [
    "plt.figure(figsize=(20,9))\n",
    "msno.matrix(df)\n",
    "# plt.xlabel(df.columns)\n",
    "plt.show()"
   ]
  },
  {
   "cell_type": "markdown",
   "metadata": {},
   "source": [
    "Handle Outliers"
   ]
  },
  {
   "cell_type": "markdown",
   "metadata": {},
   "source": [
    "Visualize Outliers\n",
    "- Determine range and count"
   ]
  },
  {
   "cell_type": "code",
   "execution_count": 90,
   "metadata": {},
   "outputs": [],
   "source": [
    "df['population_zscore'] = stats.zscore(df['population'])"
   ]
  },
  {
   "cell_type": "code",
   "execution_count": 92,
   "metadata": {},
   "outputs": [
    {
     "data": {
      "image/png": "[encoded data removed]",
      "text/plain": [
       "<Figure size 432x288 with 1 Axes>"
      ]
     },
     "metadata": {
      "needs_background": "light"
     },
     "output_type": "display_data"
    }
   ],
   "source": [
    "plt.hist(df.population_zscore)\n",
    "plt.show()"
   ]
  },
  {
   "cell_type": "code",
   "execution_count": 95,
   "metadata": {},
   "outputs": [
    {
     "data": {
      "text/plain": [
       "<AxesSubplot:xlabel='population'>"
      ]
     },
     "execution_count": 95,
     "metadata": {},
     "output_type": "execute_result"
    },
    {
     "data": {
      "image/png": "[encoded data removed]",
      "text/plain": [
       "<Figure size 432x288 with 1 Axes>"
      ]
     },
     "metadata": {
      "needs_background": "light"
     },
     "output_type": "display_data"
    }
   ],
   "source": [
    "sns.boxplot(x='population', data=df)"
   ]
  },
  {
   "cell_type": "code",
   "execution_count": 98,
   "metadata": {},
   "outputs": [
    {
     "name": "stdout",
     "output_type": "stream",
     "text": [
      "<class 'pandas.core.frame.DataFrame'>\n",
      "Int64Index: 805 entries, 9 to 10000\n",
      "Data columns (total 53 columns):\n",
      " #   Column              Non-Null Count  Dtype  \n",
      "---  ------              --------------  -----  \n",
      " 0   case_order          805 non-null    int64  \n",
      " 1   customer_id         805 non-null    object \n",
      " 2   interaction         805 non-null    object \n",
      " 3   uid                 805 non-null    object \n",
      " 4   city                805 non-null    object \n",
      " 5   state               805 non-null    object \n",
      " 6   county              805 non-null    object \n",
      " 7   zip                 805 non-null    int64  \n",
      " 8   lat                 805 non-null    float64\n",
      " 9   lng                 805 non-null    float64\n",
      " 10  population          805 non-null    int64  \n",
      " 11  area                805 non-null    object \n",
      " 12  timezone            805 non-null    object \n",
      " 13  job                 805 non-null    object \n",
      " 14  children            593 non-null    float64\n",
      " 15  age                 603 non-null    float64\n",
      " 16  education           805 non-null    object \n",
      " 17  employment          805 non-null    object \n",
      " 18  income              624 non-null    float64\n",
      " 19  marital             805 non-null    object \n",
      " 20  gender              805 non-null    object \n",
      " 21  readmission         805 non-null    object \n",
      " 22  vitd_levels         805 non-null    float64\n",
      " 23  doc_visits          805 non-null    int64  \n",
      " 24  full_meals_eaten    805 non-null    int64  \n",
      " 25  vitd_supp           805 non-null    int64  \n",
      " 26  soft_drink          616 non-null    object \n",
      " 27  initial_admin       805 non-null    object \n",
      " 28  high_blood          805 non-null    object \n",
      " 29  stroke              805 non-null    object \n",
      " 30  complication_risk   805 non-null    object \n",
      " 31  overweight          727 non-null    float64\n",
      " 32  arthritis           805 non-null    object \n",
      " 33  diabetes            805 non-null    object \n",
      " 34  hyperlipidemia      805 non-null    object \n",
      " 35  back_pain           805 non-null    object \n",
      " 36  anxiety             724 non-null    float64\n",
      " 37  allergic_rhinitis   805 non-null    object \n",
      " 38  reflux_esophagitis  805 non-null    object \n",
      " 39  asthma              805 non-null    object \n",
      " 40  services            805 non-null    object \n",
      " 41  initial_days        713 non-null    float64\n",
      " 42  total_charge        805 non-null    float64\n",
      " 43  additional_charges  805 non-null    float64\n",
      " 44  item1               805 non-null    int64  \n",
      " 45  item2               805 non-null    int64  \n",
      " 46  item3               805 non-null    int64  \n",
      " 47  item4               805 non-null    int64  \n",
      " 48  item5               805 non-null    int64  \n",
      " 49  item6               805 non-null    int64  \n",
      " 50  item7               805 non-null    int64  \n",
      " 51  item8               805 non-null    int64  \n",
      " 52  population_zscore   805 non-null    float64\n",
      "dtypes: float64(12), int64(14), object(27)\n",
      "memory usage: 339.6+ KB\n"
     ]
    }
   ],
   "source": [
    "df.query('population > 35000').info()"
   ]
  },
  {
   "cell_type": "markdown",
   "metadata": {},
   "source": [
    "#### Treating Outliers\n",
    "- Imputation\n",
    "- Retain\n",
    "- Exclude\n",
    "- Remove"
   ]
  },
  {
   "cell_type": "code",
   "execution_count": null,
   "metadata": {},
   "outputs": [],
   "source": [
    "np.where this outlier replace with nan"
   ]
  },
  {
   "cell_type": "code",
   "execution_count": null,
   "metadata": {},
   "outputs": [],
   "source": [
    "fillna(median)"
   ]
  },
  {
   "cell_type": "code",
   "execution_count": 133,
   "metadata": {},
   "outputs": [
    {
     "data": {
      "text/plain": [
       "income    19450.7925\n",
       "Name: 25%, dtype: float64"
      ]
     },
     "execution_count": 133,
     "metadata": {},
     "output_type": "execute_result"
    }
   ],
   "source": [
    "df.income.describe().to_frame().loc['25%']"
   ]
  },
  {
   "cell_type": "code",
   "execution_count": null,
   "metadata": {},
   "outputs": [],
   "source": []
  },
  {
   "cell_type": "code",
   "execution_count": null,
   "metadata": {},
   "outputs": [],
   "source": []
  },
  {
   "cell_type": "code",
   "execution_count": null,
   "metadata": {},
   "outputs": [],
   "source": []
  },
  {
   "cell_type": "code",
   "execution_count": null,
   "metadata": {},
   "outputs": [],
   "source": []
  }
 ],
 "metadata": {
  "kernelspec": {
   "display_name": "Python 3",
   "language": "python",
   "name": "python3"
  },
  "language_info": {
   "codemirror_mode": {
    "name": "ipython",
    "version": 3
   },
   "file_extension": ".py",
   "mimetype": "text/x-python",
   "name": "python",
   "nbconvert_exporter": "python",
   "pygments_lexer": "ipython3",
   "version": "3.8.5"
  }
 },
 "nbformat": 4,
 "nbformat_minor": 4
}
