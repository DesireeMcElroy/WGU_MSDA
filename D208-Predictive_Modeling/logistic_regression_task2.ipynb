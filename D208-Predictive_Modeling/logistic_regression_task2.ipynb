{
 "cells": [
  {
   "cell_type": "markdown",
   "id": "87b0af6f-7f77-4474-9663-02f638ebd7df",
   "metadata": {},
   "source": [
    "# D208 Predictive Modeling: Logistic Regression"
   ]
  },
  {
   "cell_type": "code",
   "execution_count": 2,
   "id": "03595d1e-de9a-4e78-81d5-e3f42c0979bf",
   "metadata": {},
   "outputs": [],
   "source": [
    "# imports\n",
    "import pandas as pd\n",
    "import numpy as np\n",
    "\n",
    "import matplotlib.pyplot as plt\n",
    "import seaborn as sns\n",
    "\n",
    "from sklearn.model_selection import train_test_split\n",
    "from sklearn.preprocessing import MinMaxScaler\n",
    "from sklearn.metrics import mean_squared_error, r2_score, explained_variance_score\n",
    "\n",
    "from sklearn.linear_model import LogisticRegression\n",
    "from sklearn.feature_selection import RFE\n",
    "import statsmodels.api as sm\n",
    "from statsmodels.stats.outliers_influence import variance_inflation_factor\n",
    "\n",
    "pd.set_option('display.max_columns', None)\n",
    "pd.set_option('display.max_rows', 100)"
   ]
  },
  {
   "cell_type": "markdown",
   "id": "8f9290af-74f3-44ef-bede-b145f7dee9b9",
   "metadata": {},
   "source": [
    "# Part I: Research Question\n",
    "\n",
    "## A1. Research Question\n",
    "\n",
    "My research question is, what factors if any are the cause of readmissions occurring? What features are correlated to a patient being readmitted to a hospital within 30 days?\n",
    "\n",
    "\n",
    "\n",
    "\n",
    "\n",
    "## A2.  Goals of the Data Analysis.\n",
    "The goals of this data analysis are essentially to uncover what factors influence whether a patient is re-admitted within 30 days of release. By examining the data, we aim to uncover key relationships between patients who are readmitted and those who are not. This analysis could help us identify which demographics are more prone to readmission, as well as geographical areas and hospital stay events that may impact the likelihood of a patient returning within 30 days. The insights gathered could provide valuable understanding for improving patient care and reducing readmission rates."
   ]
  },
  {
   "cell_type": "code",
   "execution_count": null,
   "id": "39a7d591-0326-4155-8976-555442aaaec0",
   "metadata": {},
   "outputs": [],
   "source": []
  },
  {
   "cell_type": "code",
   "execution_count": null,
   "id": "a3ff8f59-36f0-4850-9bfa-23edb974d458",
   "metadata": {},
   "outputs": [],
   "source": []
  },
  {
   "cell_type": "markdown",
   "id": "16a8c462-c166-440e-a8dc-98084d200a77",
   "metadata": {},
   "source": [
    "Part II: Method Justification\n",
    "\n",
    "B.  Describe logistic regression methods by doing the following:\n",
    "\n",
    "1.  Summarize four assumptions of a logistic regression model.\n",
    "\n",
    "2.  Describe two benefits of using Python or R in support of various phases of the analysis.\n",
    "\n",
    "3.  Explain why logistic regression is an appropriate technique to analyze the research question summarized in part I."
   ]
  },
  {
   "cell_type": "code",
   "execution_count": null,
   "id": "34fe53ce-619a-4bf0-b86d-1d39587807ba",
   "metadata": {},
   "outputs": [],
   "source": []
  },
  {
   "cell_type": "code",
   "execution_count": null,
   "id": "145c7ce5-f347-4adb-8928-dd966cdef352",
   "metadata": {},
   "outputs": [],
   "source": []
  },
  {
   "cell_type": "code",
   "execution_count": null,
   "id": "1666ea7e-2d5e-445e-94c8-c648b765caec",
   "metadata": {},
   "outputs": [],
   "source": []
  },
  {
   "cell_type": "markdown",
   "id": "ff576f30-1b9f-4949-89e4-67c0349e5ae6",
   "metadata": {},
   "source": [
    "Part III: Data Preparation\n",
    "\n",
    "C.  Summarize the data preparation process for logistic regression by doing the following:\n",
    "\n",
    "1.  Describe your data cleaning goals and the steps used to clean the data to achieve the goals that align with your research question including the annotated code.\n",
    "\n",
    "2.  Describe the dependent variable and all independent variables using summary statistics that are required to answer the research question, including a screenshot of the summary statistics output for each of these variables.\n",
    "\n",
    "3.  Generate univariate and bivariate visualizations of the distributions of the dependent and independent variables, including the dependent variable in your bivariate visualizations.\n",
    "\n",
    "4.  Describe your data transformation goals that align with your research question and the steps used to transform the data to achieve the goals, including the annotated code.\n",
    "\n",
    "5.  Provide the prepared data set as a CSV file."
   ]
  },
  {
   "cell_type": "code",
   "execution_count": null,
   "id": "8bd01298-f41d-4b8d-8f7d-cb379fa36c3e",
   "metadata": {},
   "outputs": [],
   "source": []
  },
  {
   "cell_type": "code",
   "execution_count": null,
   "id": "d7af7428-dbf9-4ac7-9901-8858d3bac229",
   "metadata": {},
   "outputs": [],
   "source": []
  },
  {
   "cell_type": "markdown",
   "id": "9c7e3134-6e36-421a-b0f3-25917edcfdf5",
   "metadata": {},
   "source": [
    "Part IV: Model Comparison and Analysis\n",
    "\n",
    "D.  Compare an initial and a reduced logistic regression model by doing the following:\n",
    "\n",
    "1.  Construct an initial logistic regression model from all independent variables that were identified in part C2.\n",
    "\n",
    "2.  Justify a statistically based feature selection procedure or a model evaluation metric to reduce the initial model in a way that aligns with the research question.\n",
    "\n",
    "3.  Provide a reduced logistic regression model that follows the feature selection or model evaluation process in part D2, including a screenshot of the output for each model."
   ]
  },
  {
   "cell_type": "code",
   "execution_count": null,
   "id": "503b677e-fd55-4bf0-adab-bf0706bb7103",
   "metadata": {},
   "outputs": [],
   "source": []
  },
  {
   "cell_type": "code",
   "execution_count": null,
   "id": "442c777b-4897-415a-9838-2c98e613adc9",
   "metadata": {},
   "outputs": [],
   "source": []
  },
  {
   "cell_type": "markdown",
   "id": "0553c850-48e5-4843-9d83-ed9834329345",
   "metadata": {},
   "source": [
    "E.  Analyze the data set using your reduced logistic regression model by doing the following:\n",
    "\n",
    "1.  Explain your data analysis process by comparing the initial logistic regression model and reduced logistic regression model, including the following element:\n",
    "\n",
    "•   a model evaluation metric\n",
    "\n",
    "2.  Provide the output and all calculations of the analysis you performed, including the following elements for your reduced logistic regression model:\n",
    "\n",
    "•   confusion matrix\n",
    "\n",
    "•   accuracy calculation\n",
    "\n",
    "3.  Provide an executable error-free copy of the code used to support the implementation of the logistic regression models using a Python or R file.\n",
    "\n"
   ]
  },
  {
   "cell_type": "code",
   "execution_count": null,
   "id": "e6f8f3c2-0b9d-4b5a-b51d-3dbd2a6f0554",
   "metadata": {},
   "outputs": [],
   "source": []
  },
  {
   "cell_type": "code",
   "execution_count": null,
   "id": "06e77aa3-3430-4b30-a04b-4c8a3953f10c",
   "metadata": {},
   "outputs": [],
   "source": []
  },
  {
   "cell_type": "markdown",
   "id": "d34f671b-177f-4a68-a595-2b70efc16af8",
   "metadata": {},
   "source": [
    "Part V: Data Summary and Implications\n",
    "\n",
    "F.  Summarize your findings and assumptions by doing the following:\n",
    "\n",
    "1.  Discuss the results of your data analysis, including the following elements:\n",
    "\n",
    "•   a regression equation for the reduced model\n",
    "\n",
    "•   an interpretation of the coefficients of the reduced model\n",
    "\n",
    "•   the statistical and practical significance of the reduced model\n",
    "\n",
    "•   the limitations of the data analysis\n",
    "\n",
    "2.  Recommend a course of action based on your results."
   ]
  },
  {
   "cell_type": "code",
   "execution_count": null,
   "id": "dcf217d4-ccc0-4c25-979a-28300942ce1b",
   "metadata": {},
   "outputs": [],
   "source": []
  },
  {
   "cell_type": "code",
   "execution_count": null,
   "id": "56a46200-935e-4604-b8c6-ae40b82dd34b",
   "metadata": {},
   "outputs": [],
   "source": []
  },
  {
   "cell_type": "markdown",
   "id": "f0fe266a-f322-4e06-bf6d-fe544706b241",
   "metadata": {},
   "source": [
    "\n",
    "\n",
    "\n",
    "\n",
    "Part VI: Demonstration\n",
    "\n",
    "G.  Provide a Panopto video recording that includes the presenter and a vocalized demonstration of the functionality of the code used for the analysis of the programming environment, including the following elements:\n",
    "\n",
    "•   an identification of the version of the programming environment\n",
    "\n",
    "•   a comparison of the initial logistic regression model you used and the reduced logistic regression model you used in your analysis\n",
    "\n",
    "•   an interpretation of the coefficients of the reduced model\n",
    "\n",
    "\n",
    "\n",
    "Note: The audiovisual recording should feature you visibly presenting the material (i.e., not in voiceover or embedded video) and should simultaneously capture both you and your multimedia presentation.\n",
    "\n",
    "\n",
    "Note: For instructions on how to access and use Panopto, use the \"Panopto How-To Videos\" web link provided below. To access Panopto's website, navigate to the web link titled \"Panopto Access,\" and then choose to log in using the “WGU” option. If prompted, log in using your WGU student portal credentials, and then it will forward you to Panopto’s website.\n",
    "\n",
    "\n",
    "To submit your recording, upload it to the Panopto drop box titled “Regression Modeling – NBM3 | D208.” Once the recording has been uploaded and processed in Panopto's system, retrieve the URL of the recording from Panopto and copy and paste it into the Links option. Upload the remaining task requirements using the Attachments option.\n",
    "\n",
    "\n",
    "\n",
    "H.  List the web sources used to acquire data or segments of third-party code to support the application. Ensure the web sources are reliable.\n",
    "\n",
    "\n",
    "I.  Acknowledge sources, using in-text citations and references, for content that is quoted, paraphrased, or summarized.\n",
    "\n",
    "\n",
    "J.  Demonstrate professional communication in the content and presentation of your submission."
   ]
  },
  {
   "cell_type": "code",
   "execution_count": null,
   "id": "2019e980-072d-498a-ac5a-55659b2ecaef",
   "metadata": {},
   "outputs": [],
   "source": []
  },
  {
   "cell_type": "code",
   "execution_count": null,
   "id": "7844d071-abe4-4c13-953f-ce37360682d9",
   "metadata": {},
   "outputs": [],
   "source": []
  },
  {
   "cell_type": "code",
   "execution_count": null,
   "id": "cabf83b4-4ea8-4dac-ac18-904042fcd7df",
   "metadata": {},
   "outputs": [],
   "source": []
  },
  {
   "cell_type": "code",
   "execution_count": null,
   "id": "716196c4-c6ba-4e34-94b6-3fbfd33a32d6",
   "metadata": {},
   "outputs": [],
   "source": []
  },
  {
   "cell_type": "code",
   "execution_count": null,
   "id": "6303fbfb-c2b1-41f6-b3c3-948904e3bf5e",
   "metadata": {},
   "outputs": [],
   "source": []
  },
  {
   "cell_type": "code",
   "execution_count": null,
   "id": "0622235d-5b61-49b8-862f-868997fd147b",
   "metadata": {},
   "outputs": [],
   "source": [
    "# Take a look at a heatmap of correlation to y target\n",
    "plt.figure(figsize=(8,12))\n",
    "value_heatmap = sns.heatmap(df.corr()[['readmission']].sort_values(by='readmission', ascending=True),\n",
    "                            cmap=\"PiYG\", vmin=-.5, vmax=.5, annot=True)\n",
    "value_heatmap.set_title('Feautures Correlating with hospital_stay_days')\n",
    "plt.show()"
   ]
  }
 ],
 "metadata": {
  "kernelspec": {
   "display_name": "Python 3 (ipykernel)",
   "language": "python",
   "name": "python3"
  },
  "language_info": {
   "codemirror_mode": {
    "name": "ipython",
    "version": 3
   },
   "file_extension": ".py",
   "mimetype": "text/x-python",
   "name": "python",
   "nbconvert_exporter": "python",
   "pygments_lexer": "ipython3",
   "version": "3.8.5"
  }
 },
 "nbformat": 4,
 "nbformat_minor": 5
}
