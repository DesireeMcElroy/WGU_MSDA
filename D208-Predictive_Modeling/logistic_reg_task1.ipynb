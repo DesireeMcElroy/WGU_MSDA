{
 "cells": [
  {
   "cell_type": "markdown",
   "metadata": {},
   "source": [
    "# D208 Predictive Modeling"
   ]
  },
  {
   "cell_type": "code",
   "execution_count": 1,
   "metadata": {},
   "outputs": [],
   "source": [
    "# imports\n",
    "import pandas as pd\n",
    "import numpy as np\n",
    "\n",
    "import matplotlib.pyplot as plt\n",
    "import seaborn as sns"
   ]
  },
  {
   "cell_type": "markdown",
   "metadata": {},
   "source": [
    "## Part I: Research Question\n",
    "\n",
    "## A1. Research Question\n",
    "**Summarize one research question that is relevant to a real-world organizational situation captured in the data set you have selected and that you will answer using multiple linear regression in the initial model.**\n",
    "\n",
    "My research question is: what are contributing factors related to a patient's length of stay? At a higher level, what variables directly influence the 'initial days' a patient stays in a hospital?\n",
    "\n",
    "## B2. Goals of the Data Analysis. \n",
    "**Note: Ensure that your goals are within the scope of your research question and are represented in the available data.**\n",
    "\n",
    "The goal of the data analysis is to discover which factors influence a patient's length of stay. By uncovering which variables are correlated, whether it be patient demographics, hospital procedures or similar details, medical hospitals can utilize these findings in multiple different way such as improving patient care through better practices. Examples of improving patient care include identifying the higher risk patients (those likely to have longer stays) to possibly come up with more targeted interventions and preventative care measures. As a result of the previously mentioned benefit, hospital resources may be more optimally allocated, resulting in quick patient turnover and reduced overall medical costs for both patients and medical centers.\n"
   ]
  },
  {
   "cell_type": "code",
   "execution_count": 4,
   "metadata": {},
   "outputs": [],
   "source": [
    "df = pd.read_csv('medical_clean.csv')"
   ]
  },
  {
   "cell_type": "markdown",
   "metadata": {},
   "source": [
    "## Part II: Method Justification\n",
    "\n",
    "B.  Describe multiple linear regression methods by doing the following:"
   ]
  },
  {
   "cell_type": "markdown",
   "metadata": {},
   "source": [
    "## B1.  Summarize four assumptions of a multiple linear regression model.\n",
    "Multiple linear regression relies on four main assumptions. These four assumptions are **linearity, independence, homoscedasticity, and normality**.\n",
    "\n",
    "Linearity is defined as an existing linear relationship between the dependent and independent variables. Any change applied to an independent variable will effect the dependent variable linearly. A simpler way to explain this is an existing \"straight line relationship between two variables\" (Investopedia Linear Relationship Definition, Formula, and Examples).\n",
    "\n",
    "Independence is defined as the residuals being independent. Residuals are also known as the error, which is the difference between a predicted value and actual value $(y-\\hat{y})$. Independence among residuals implies there is no correlation between residuals. In summary, the residuals are ***normally distributed***.\n",
    "\n",
    "Furthermore on the subject of residuals, Homoscedasticity is defined as the variance of residuals remaining constant across all independent values. A good visual would be visualizing a scatterplot with the regression line and plotted residuals. In the case of homoscedascticity, the residuals should have similar variance from their respective predicted values. In contrast, heterosceascticity would not have a constant variance among the residuals, resulting in patterns such as cone-shapes, u-shapes, etc.. (Homoscedasticity - Statistics Solutions)\n",
    "\n",
    "Normality -- ADD HERE\n"
   ]
  },
  {
   "cell_type": "markdown",
   "metadata": {},
   "source": [
    "## B2.  Describe two benefits of using Python or R in support of various phases of the analysis.\n",
    "\n",
    "Python is my choice of programming language due to it's ease of use and robust use in data science. Python has many versatile libraries including numpy (numerical python operations), pandas (used for manipulation of dataframes), scipy (used for statistical operations), and matplotlib and seaborn (strong versatile visualization packages).\n",
    "\n",
    "During the wrangling phase, Python's pandas library proves to be incredibly useful for the manipulation of dataframes, including cleaning, transforming and creating new features. Numpy is also an analyst favorite with its' powerful performance with numerical operations on arrays, which is synonymical to dataframes.\n",
    "\n",
    "Data exploration and statistics phases also greatly benefits from the various functions within Python. The visual libraries including matplotlib and seaborn has versatile graphs that provide easy access to quick insights. Distribution charts, scatterplots and heatmaps are a few of my most used functions that help me assess the distribution and relative relation to features within the dataset. This results in decreased need for computing power as well as reduction in redundancy."
   ]
  },
  {
   "cell_type": "code",
   "execution_count": 6,
   "metadata": {},
   "outputs": [
    {
     "data": {
      "image/png": "[encoded data removed]",
      "text/plain": [
       "<Figure size 432x288 with 1 Axes>"
      ]
     },
     "metadata": {
      "needs_background": "light"
     },
     "output_type": "display_data"
    }
   ],
   "source": [
    "sns.histplot(data=df, x='Initial_days')\n",
    "plt.show()"
   ]
  },
  {
   "cell_type": "code",
   "execution_count": 7,
   "metadata": {
    "scrolled": true
   },
   "outputs": [
    {
     "data": {
      "text/plain": [
       "['Additional_charges',\n",
       " 'Age',\n",
       " 'Allergic_rhinitis',\n",
       " 'Anxiety',\n",
       " 'Area',\n",
       " 'Arthritis',\n",
       " 'Asthma',\n",
       " 'BackPain',\n",
       " 'CaseOrder',\n",
       " 'Children',\n",
       " 'City',\n",
       " 'Complication_risk',\n",
       " 'County',\n",
       " 'Customer_id',\n",
       " 'Diabetes',\n",
       " 'Doc_visits',\n",
       " 'Full_meals_eaten',\n",
       " 'Gender',\n",
       " 'HighBlood',\n",
       " 'Hyperlipidemia',\n",
       " 'Income',\n",
       " 'Initial_admin',\n",
       " 'Initial_days',\n",
       " 'Interaction',\n",
       " 'Item1',\n",
       " 'Item2',\n",
       " 'Item3',\n",
       " 'Item4',\n",
       " 'Item5',\n",
       " 'Item6',\n",
       " 'Item7',\n",
       " 'Item8',\n",
       " 'Job',\n",
       " 'Lat',\n",
       " 'Lng',\n",
       " 'Marital',\n",
       " 'Overweight',\n",
       " 'Population',\n",
       " 'ReAdmis',\n",
       " 'Reflux_esophagitis',\n",
       " 'Services',\n",
       " 'Soft_drink',\n",
       " 'State',\n",
       " 'Stroke',\n",
       " 'TimeZone',\n",
       " 'TotalCharge',\n",
       " 'UID',\n",
       " 'VitD_levels',\n",
       " 'Zip',\n",
       " 'vitD_supp']"
      ]
     },
     "execution_count": 7,
     "metadata": {},
     "output_type": "execute_result"
    }
   ],
   "source": [
    "sorted(df.columns)"
   ]
  },
  {
   "cell_type": "markdown",
   "metadata": {},
   "source": [
    "## B3.  Explain why multiple linear regression is an appropriate technique to use for analyzing the research question summarized in part I.\n",
    "\n",
    "This technique is an algorithm used for modeling the relationship between independent feature variables and the predictor variable. In this case, the research question dependent variable is length of stay. Multiple linear regression is an appropriate algorithm for use in predicting a variable considered to be (or used as) continuous.\n",
    "\n",
    "\n",
    "This is suitable for the research question because it not only allows for simultaneous research of variables that influence a patient's length of stay, (e.g. a combination of patient characteristics, health conditions and lifestyle) it allows for a deep dive into what feature variables may be associated to a patient's stay in a hospital. By quantifying the relationships between patient demographics, hospital stay information etc. this technique offers valuable insights into the range of correlation the independent and predictor variable may have. \n",
    "\n",
    "\n",
    "Furthermore, the benefits of this technique allows one to see the direct interaction between each variable and how the direct influence each other. An example could be diabetes is much more pronounced in patients in certain cities."
   ]
  },
  {
   "cell_type": "markdown",
   "metadata": {},
   "source": [
    "## Part III. Data Cleaning/Preparation\n",
    "\n",
    "**C.**  Summarize the data preparation process for multiple linear regression analysis by doing the following:\n",
    "\n",
    "1.  Describe your data cleaning goals and the steps used to clean the data to achieve the goals that align with your research question including your annotated code.\n",
    "\n",
    "Similarly to my previous data cleaning method from D206, my plan is to assess and clean the dataframe where necessary. Firstly, I assess the different data types of each column and change each accordingly to int, float, bool etc. as needed. Next, I assess any duplicates or nulls and handle those by either dropping, separating or imputing. My next step is usually assessing any outliers and making a plan on whether they will be separated, dropped or imputed. Lastly I take a thorough look into all of the data and entries to be sure everything programmatically makes sense. This step can include spelling, correcting typos and lower casing items to make them more readable.\n",
    "\n",
    "\n",
    "\n",
    "To clean the dataset, I will start by making sure all zip codes are a minimum five digits by adding zeros at where needed, correcting data loss from the column previously being set as an integer. I will standardize the timezone column to fit the nine main time zones and then change to a the appropriate categorical data type. For the gender column, I will replace \"prefer not to say\" with \"nonbinary\". \n",
    "\n",
    "Columns like readmission, soft_drink, and various health-related columns that have yes/no answers will be changed to boolean data types. I will also round values in columns: vitd_levels, total_charge, and additional_charges to two decimal places. Columns like population, children, and income will be corrected to integer from float types.\n",
    "\n",
    "Columns such as marital, gender, and other service related columns will be set as categorical data types. Anomalous columns like income appear within reasonable bounds and thus I decided on no further changes with regards to data imputation. Other columns with missing values (children, age, income, etc.) will have their nulls imputed using appropriate methods based on the data's distribution."
   ]
  },
  {
   "cell_type": "code",
   "execution_count": 16,
   "metadata": {},
   "outputs": [
    {
     "data": {
      "text/plain": [
       "CaseOrder               int64\n",
       "Customer_id            object\n",
       "Interaction            object\n",
       "UID                    object\n",
       "City                   object\n",
       "State                  object\n",
       "County                 object\n",
       "Zip                     int64\n",
       "Lat                   float64\n",
       "Lng                   float64\n",
       "Population              int64\n",
       "Area                   object\n",
       "TimeZone               object\n",
       "Job                    object\n",
       "Children                int64\n",
       "Age                     int64\n",
       "Income                float64\n",
       "Marital                object\n",
       "Gender                 object\n",
       "ReAdmis                object\n",
       "VitD_levels           float64\n",
       "Doc_visits              int64\n",
       "Full_meals_eaten        int64\n",
       "vitD_supp               int64\n",
       "Soft_drink             object\n",
       "Initial_admin          object\n",
       "HighBlood              object\n",
       "Stroke                 object\n",
       "Complication_risk      object\n",
       "Overweight             object\n",
       "Arthritis              object\n",
       "Diabetes               object\n",
       "Hyperlipidemia         object\n",
       "BackPain               object\n",
       "Anxiety                object\n",
       "Allergic_rhinitis      object\n",
       "Reflux_esophagitis     object\n",
       "Asthma                 object\n",
       "Services               object\n",
       "Initial_days          float64\n",
       "TotalCharge           float64\n",
       "Additional_charges    float64\n",
       "Item1                   int64\n",
       "Item2                   int64\n",
       "Item3                   int64\n",
       "Item4                   int64\n",
       "Item5                   int64\n",
       "Item6                   int64\n",
       "Item7                   int64\n",
       "Item8                   int64\n",
       "dtype: object"
      ]
     },
     "execution_count": 16,
     "metadata": {},
     "output_type": "execute_result"
    }
   ],
   "source": [
    "df.dtypes"
   ]
  },
  {
   "cell_type": "markdown",
   "metadata": {},
   "source": [
    "\n",
    "2.  Describe the dependent variable and all independent variables using summary statistics that are required to answer the research question, including a screenshot of the summary statistics output for each of these variables.\n",
    "\n",
    "3.  Generate univariate and bivariate visualizations of the distributions of the dependent and independent variables, including the dependent variable in your bivariate visualizations.\n",
    "\n",
    "4.  Describe your data transformation goals that align with your research question and the steps used to transform the data to achieve the goals, including the annotated code.\n",
    "\n",
    "5.  Provide the prepared data set as a CSV file."
   ]
  },
  {
   "cell_type": "code",
   "execution_count": 3,
   "metadata": {},
   "outputs": [
    {
     "data": {
      "text/html": [
       "<div>\n",
       "<style scoped>\n",
       "    .dataframe tbody tr th:only-of-type {\n",
       "        vertical-align: middle;\n",
       "    }\n",
       "\n",
       "    .dataframe tbody tr th {\n",
       "        vertical-align: top;\n",
       "    }\n",
       "\n",
       "    .dataframe thead th {\n",
       "        text-align: right;\n",
       "    }\n",
       "</style>\n",
       "<table border=\"1\" class=\"dataframe\">\n",
       "  <thead>\n",
       "    <tr style=\"text-align: right;\">\n",
       "      <th></th>\n",
       "      <th>CaseOrder</th>\n",
       "      <th>Customer_id</th>\n",
       "      <th>Interaction</th>\n",
       "      <th>UID</th>\n",
       "      <th>City</th>\n",
       "      <th>State</th>\n",
       "      <th>County</th>\n",
       "      <th>Zip</th>\n",
       "      <th>Lat</th>\n",
       "      <th>Lng</th>\n",
       "      <th>...</th>\n",
       "      <th>TotalCharge</th>\n",
       "      <th>Additional_charges</th>\n",
       "      <th>Item1</th>\n",
       "      <th>Item2</th>\n",
       "      <th>Item3</th>\n",
       "      <th>Item4</th>\n",
       "      <th>Item5</th>\n",
       "      <th>Item6</th>\n",
       "      <th>Item7</th>\n",
       "      <th>Item8</th>\n",
       "    </tr>\n",
       "  </thead>\n",
       "  <tbody>\n",
       "    <tr>\n",
       "      <th>0</th>\n",
       "      <td>1</td>\n",
       "      <td>C412403</td>\n",
       "      <td>8cd49b13-f45a-4b47-a2bd-173ffa932c2f</td>\n",
       "      <td>3a83ddb66e2ae73798bdf1d705dc0932</td>\n",
       "      <td>Eva</td>\n",
       "      <td>AL</td>\n",
       "      <td>Morgan</td>\n",
       "      <td>35621</td>\n",
       "      <td>34.34960</td>\n",
       "      <td>-86.72508</td>\n",
       "      <td>...</td>\n",
       "      <td>3726.702860</td>\n",
       "      <td>17939.403420</td>\n",
       "      <td>3</td>\n",
       "      <td>3</td>\n",
       "      <td>2</td>\n",
       "      <td>2</td>\n",
       "      <td>4</td>\n",
       "      <td>3</td>\n",
       "      <td>3</td>\n",
       "      <td>4</td>\n",
       "    </tr>\n",
       "    <tr>\n",
       "      <th>1</th>\n",
       "      <td>2</td>\n",
       "      <td>Z919181</td>\n",
       "      <td>d2450b70-0337-4406-bdbb-bc1037f1734c</td>\n",
       "      <td>176354c5eef714957d486009feabf195</td>\n",
       "      <td>Marianna</td>\n",
       "      <td>FL</td>\n",
       "      <td>Jackson</td>\n",
       "      <td>32446</td>\n",
       "      <td>30.84513</td>\n",
       "      <td>-85.22907</td>\n",
       "      <td>...</td>\n",
       "      <td>4193.190458</td>\n",
       "      <td>17612.998120</td>\n",
       "      <td>3</td>\n",
       "      <td>4</td>\n",
       "      <td>3</td>\n",
       "      <td>4</td>\n",
       "      <td>4</td>\n",
       "      <td>4</td>\n",
       "      <td>3</td>\n",
       "      <td>3</td>\n",
       "    </tr>\n",
       "    <tr>\n",
       "      <th>2</th>\n",
       "      <td>3</td>\n",
       "      <td>F995323</td>\n",
       "      <td>a2057123-abf5-4a2c-abad-8ffe33512562</td>\n",
       "      <td>e19a0fa00aeda885b8a436757e889bc9</td>\n",
       "      <td>Sioux Falls</td>\n",
       "      <td>SD</td>\n",
       "      <td>Minnehaha</td>\n",
       "      <td>57110</td>\n",
       "      <td>43.54321</td>\n",
       "      <td>-96.63772</td>\n",
       "      <td>...</td>\n",
       "      <td>2434.234222</td>\n",
       "      <td>17505.192460</td>\n",
       "      <td>2</td>\n",
       "      <td>4</td>\n",
       "      <td>4</td>\n",
       "      <td>4</td>\n",
       "      <td>3</td>\n",
       "      <td>4</td>\n",
       "      <td>3</td>\n",
       "      <td>3</td>\n",
       "    </tr>\n",
       "    <tr>\n",
       "      <th>3</th>\n",
       "      <td>4</td>\n",
       "      <td>A879973</td>\n",
       "      <td>1dec528d-eb34-4079-adce-0d7a40e82205</td>\n",
       "      <td>cd17d7b6d152cb6f23957346d11c3f07</td>\n",
       "      <td>New Richland</td>\n",
       "      <td>MN</td>\n",
       "      <td>Waseca</td>\n",
       "      <td>56072</td>\n",
       "      <td>43.89744</td>\n",
       "      <td>-93.51479</td>\n",
       "      <td>...</td>\n",
       "      <td>2127.830423</td>\n",
       "      <td>12993.437350</td>\n",
       "      <td>3</td>\n",
       "      <td>5</td>\n",
       "      <td>5</td>\n",
       "      <td>3</td>\n",
       "      <td>4</td>\n",
       "      <td>5</td>\n",
       "      <td>5</td>\n",
       "      <td>5</td>\n",
       "    </tr>\n",
       "    <tr>\n",
       "      <th>4</th>\n",
       "      <td>5</td>\n",
       "      <td>C544523</td>\n",
       "      <td>5885f56b-d6da-43a3-8760-83583af94266</td>\n",
       "      <td>d2f0425877b10ed6bb381f3e2579424a</td>\n",
       "      <td>West Point</td>\n",
       "      <td>VA</td>\n",
       "      <td>King William</td>\n",
       "      <td>23181</td>\n",
       "      <td>37.59894</td>\n",
       "      <td>-76.88958</td>\n",
       "      <td>...</td>\n",
       "      <td>2113.073274</td>\n",
       "      <td>3716.525786</td>\n",
       "      <td>2</td>\n",
       "      <td>1</td>\n",
       "      <td>3</td>\n",
       "      <td>3</td>\n",
       "      <td>5</td>\n",
       "      <td>3</td>\n",
       "      <td>4</td>\n",
       "      <td>3</td>\n",
       "    </tr>\n",
       "  </tbody>\n",
       "</table>\n",
       "<p>5 rows × 50 columns</p>\n",
       "</div>"
      ],
      "text/plain": [
       "   CaseOrder Customer_id                           Interaction  \\\n",
       "0          1     C412403  8cd49b13-f45a-4b47-a2bd-173ffa932c2f   \n",
       "1          2     Z919181  d2450b70-0337-4406-bdbb-bc1037f1734c   \n",
       "2          3     F995323  a2057123-abf5-4a2c-abad-8ffe33512562   \n",
       "3          4     A879973  1dec528d-eb34-4079-adce-0d7a40e82205   \n",
       "4          5     C544523  5885f56b-d6da-43a3-8760-83583af94266   \n",
       "\n",
       "                                UID          City State        County    Zip  \\\n",
       "0  3a83ddb66e2ae73798bdf1d705dc0932           Eva    AL        Morgan  35621   \n",
       "1  176354c5eef714957d486009feabf195      Marianna    FL       Jackson  32446   \n",
       "2  e19a0fa00aeda885b8a436757e889bc9   Sioux Falls    SD     Minnehaha  57110   \n",
       "3  cd17d7b6d152cb6f23957346d11c3f07  New Richland    MN        Waseca  56072   \n",
       "4  d2f0425877b10ed6bb381f3e2579424a    West Point    VA  King William  23181   \n",
       "\n",
       "        Lat       Lng  ...  TotalCharge Additional_charges Item1 Item2  Item3  \\\n",
       "0  34.34960 -86.72508  ...  3726.702860       17939.403420     3     3      2   \n",
       "1  30.84513 -85.22907  ...  4193.190458       17612.998120     3     4      3   \n",
       "2  43.54321 -96.63772  ...  2434.234222       17505.192460     2     4      4   \n",
       "3  43.89744 -93.51479  ...  2127.830423       12993.437350     3     5      5   \n",
       "4  37.59894 -76.88958  ...  2113.073274        3716.525786     2     1      3   \n",
       "\n",
       "   Item4  Item5 Item6 Item7 Item8  \n",
       "0      2      4     3     3     4  \n",
       "1      4      4     4     3     3  \n",
       "2      4      3     4     3     3  \n",
       "3      3      4     5     5     5  \n",
       "4      3      5     3     4     3  \n",
       "\n",
       "[5 rows x 50 columns]"
      ]
     },
     "execution_count": 3,
     "metadata": {},
     "output_type": "execute_result"
    }
   ],
   "source": [
    "# read in dataframe\n",
    "df = pd.read_csv('medical_clean.csv')\n",
    "df.head()"
   ]
  },
  {
   "cell_type": "code",
   "execution_count": 6,
   "metadata": {},
   "outputs": [
    {
     "data": {
      "text/plain": [
       "['CaseOrder',\n",
       " 'Customer_id',\n",
       " 'Interaction',\n",
       " 'UID',\n",
       " 'City',\n",
       " 'State',\n",
       " 'County',\n",
       " 'Zip',\n",
       " 'Lat',\n",
       " 'Lng',\n",
       " 'Population',\n",
       " 'Area',\n",
       " 'TimeZone',\n",
       " 'Job',\n",
       " 'Children',\n",
       " 'Age',\n",
       " 'Income',\n",
       " 'Marital',\n",
       " 'Gender',\n",
       " 'ReAdmis',\n",
       " 'VitD_levels',\n",
       " 'Doc_visits',\n",
       " 'Full_meals_eaten',\n",
       " 'vitD_supp',\n",
       " 'Soft_drink',\n",
       " 'Initial_admin',\n",
       " 'HighBlood',\n",
       " 'Stroke',\n",
       " 'Complication_risk',\n",
       " 'Overweight',\n",
       " 'Arthritis',\n",
       " 'Diabetes',\n",
       " 'Hyperlipidemia',\n",
       " 'BackPain',\n",
       " 'Anxiety',\n",
       " 'Allergic_rhinitis',\n",
       " 'Reflux_esophagitis',\n",
       " 'Asthma',\n",
       " 'Services',\n",
       " 'Initial_days',\n",
       " 'TotalCharge',\n",
       " 'Additional_charges',\n",
       " 'Item1',\n",
       " 'Item2',\n",
       " 'Item3',\n",
       " 'Item4',\n",
       " 'Item5',\n",
       " 'Item6',\n",
       " 'Item7',\n",
       " 'Item8']"
      ]
     },
     "execution_count": 6,
     "metadata": {},
     "output_type": "execute_result"
    }
   ],
   "source": [
    "df.columns.tolist()"
   ]
  },
  {
   "cell_type": "code",
   "execution_count": 13,
   "metadata": {},
   "outputs": [
    {
     "data": {
      "text/plain": [
       "(array([2563., 1586.,  669.,  157.,   34.,  271.,  546., 1033., 1451.,\n",
       "        1690.]),\n",
       " array([ 1.00198092,  8.09993183, 15.19788274, 22.29583364, 29.39378455,\n",
       "        36.49173546, 43.58968637, 50.68763728, 57.78558818, 64.88353909,\n",
       "        71.98149   ]),\n",
       " <BarContainer object of 10 artists>)"
      ]
     },
     "execution_count": 13,
     "metadata": {},
     "output_type": "execute_result"
    },
    {
     "data": {
      "image/png": "[encoded data removed]",
      "text/plain": [
       "<Figure size 432x288 with 1 Axes>"
      ]
     },
     "metadata": {
      "needs_background": "light"
     },
     "output_type": "display_data"
    }
   ],
   "source": [
    "plt.hist(df.Initial_days)"
   ]
  },
  {
   "cell_type": "markdown",
   "metadata": {},
   "source": [
    "## Part IV: Model Comparison and Analysis\n",
    "\n",
    "D.  Compare an initial and a reduced linear regression model by doing the following:\n",
    "\n",
    "1.  Construct an initial multiple linear regression model from all independent variables that were identified in part C2.\n",
    "\n",
    "2.  Justify a statistically based feature selection procedure or a model evaluation metric to reduce the initial model in a way that aligns with the research question.\n",
    "\n",
    "3.  Provide a reduced linear regression model that follows the feature selection or model evaluation process in part D2, including a screenshot of the output for each model.\n",
    "\n",
    "\n",
    "\n",
    "\n",
    "\n",
    "\n",
    "E.  Analyze the data set using your reduced linear regression model by doing the following:\n",
    "\n",
    "1.  Explain your data analysis process by comparing the initial multiple linear regression model and reduced linear regression model, including the following element:\n",
    "\n",
    "•   a model evaluation metric\n",
    "\n",
    "2.  Provide the output and all calculations of the analysis you performed, including the following elements for your reduced linear regression model:\n",
    "\n",
    "•   a residual plot\n",
    "\n",
    "•   the model’s residual standard error\n",
    "\n",
    "3.  Provide an executable error-free copy of the code used to support the implementation of the linear regression models using a Python or R file.\n"
   ]
  },
  {
   "cell_type": "markdown",
   "metadata": {},
   "source": [
    "## Part V: Data Summary and Implications\n",
    "\n",
    "F.  Summarize your findings and assumptions by doing the following:\n",
    "\n",
    "1.  Discuss the results of your data analysis, including the following elements:\n",
    "\n",
    "•   a regression equation for the reduced model\n",
    "\n",
    "•   an interpretation of the coefficients of the reduced model\n",
    "\n",
    "•   the statistical and practical significance of the reduced model\n",
    "\n",
    "•   the limitations of the data analysis\n",
    "\n",
    "2.  Recommend a course of action based on your results.\n",
    "\n",
    "\n",
    "\n",
    "Part VI: Demonstration\n",
    "\n",
    "G.  Provide a Panopto video recording that includes the presenter and a vocalized demonstration of the functionality of the code used for the analysis of the programming environment, including the following elements:\n",
    "\n",
    "•   an identification of the version of the programming environment\n",
    "\n",
    "•   a comparison of the initial multiple linear regression model you used and the reduced linear regression model you used in your analysis\n",
    "\n",
    "•   an interpretation of the coefficients of the reduced model\n",
    "\n",
    "\n",
    "Note: The audiovisual recording should feature you visibly presenting the material (i.e., not in voiceover or embedded video) and should simultaneously capture both you and your multimedia presentation.\n",
    "\n",
    "\n",
    "Note: For instructions on how to access and use Panopto, use the \"Panopto How-To Videos\" web link provided below. To access Panopto's website, navigate to the web link titled \"Panopto Access,\" and then choose to log in using the “WGU” option. If prompted, log in using your WGU student portal credentials, and then it will forward you to Panopto’s website.\n",
    "\n",
    "\n",
    "To submit your recording, upload it to the Panopto drop box titled “Regression Modeling – NBM3 | D208.” Once the recording has been uploaded and processed in Panopto's system, retrieve the URL of the recording from Panopto and copy and paste it into the Links option. Upload the remaining task requirements using the Attachments option.\n",
    "\n",
    "\n",
    "\n",
    "H.  List the web sources used to acquire data or segments of third-party code to support the application. Ensure the web sources are reliable.\n",
    "\n",
    "\n",
    "I.  Acknowledge sources, using in-text citations and references, for content that is quoted, paraphrased, or summarized.\n",
    "\n",
    "\n",
    "J.  Demonstrate professional communication in the content and presentation of your submission."
   ]
  },
  {
   "cell_type": "markdown",
   "metadata": {},
   "source": [
    "## Sources\n",
    "[Investopedia - Linear Relationship Definition](https://www.investopedia.com/terms/l/linearrelationship.asp)\n",
    "\n",
    "[Residual Analysis for Independence (helpful image for visualization)](https://dev.to/ungest/independence-of-errors-a-guide-to-validating-linear-regression-assumptions-4h6b)\n",
    "\n",
    "[Homoscedasticity - Statistics SolutionsPart IV: Model Comparison and Analysis\n",
    "\n",
    "D.  Compare an initial and a reduced linear regression model by doing the following:\n",
    "\n",
    "1.  Construct an initial multiple linear regression model from all independent variables that were identified in part C2.\n",
    "\n",
    "2.  Justify a statistically based feature selection procedure or a model evaluation metric to reduce the initial model in a way that aligns with the research question.\n",
    "\n",
    "3.  Provide a reduced linear regression model that follows the feature selection or model evaluation process in part D2, including a screenshot of the output for each model.\n",
    "](https://www.statisticssolutions.com/free-resources/directory-of-statistical-analyses/homoscedasticity/)"
   ]
  },
  {
   "cell_type": "code",
   "execution_count": null,
   "metadata": {},
   "outputs": [],
   "source": []
  }
 ],
 "metadata": {
  "kernelspec": {
   "display_name": "Python 3",
   "language": "python",
   "name": "python3"
  },
  "language_info": {
   "codemirror_mode": {
    "name": "ipython",
    "version": 3
   },
   "file_extension": ".py",
   "mimetype": "text/x-python",
   "name": "python",
   "nbconvert_exporter": "python",
   "pygments_lexer": "ipython3",
   "version": "3.8.5"
  }
 },
 "nbformat": 4,
 "nbformat_minor": 4
}
