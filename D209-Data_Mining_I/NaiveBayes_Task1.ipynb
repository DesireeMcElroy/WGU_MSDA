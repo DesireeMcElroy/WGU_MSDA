{
 "cells": [
  {
   "cell_type": "markdown",
   "id": "59af8742-3822-4560-9b83-37f7bff360c6",
   "metadata": {},
   "source": [
    "# D209 - Data Mining I\n",
    "by Desiree McElroy"
   ]
  },
  {
   "cell_type": "code",
   "execution_count": 1,
   "id": "9c3fe2ae-bd7e-470d-9c2d-19354751f87e",
   "metadata": {},
   "outputs": [],
   "source": [
    "# imports\n",
    "import pandas as pd\n",
    "import numpy as np\n",
    "\n",
    "import wrangle as w\n",
    "\n",
    "import pprint"
   ]
  },
  {
   "cell_type": "markdown",
   "id": "72a9d3b5-dc19-47d6-8e2c-d95a04009ed6",
   "metadata": {},
   "source": [
    "# Part I: Research Question\n",
    "\n",
    "A.  Describe the purpose of this data mining report by doing the following:\n",
    "\n",
    "## A1. Research Question\n",
    "\n",
    "My research question is what could be contributing factors in someone being diagnosed with diabetes? Could these features be solid predictors in identifying who is more at risk for diabetes?"
   ]
  },
  {
   "cell_type": "markdown",
   "id": "ecf31780-5089-4b99-b93b-0925fbf46369",
   "metadata": {},
   "source": [
    "## A2.  Goal of the Data Analysis.\n",
    "\n",
    " According to the Center for Disease Control (CDC), diabetes affects more than 38 million Americans. This disease remains a serious illness among population. By exploring this data set using Naive Bayes methods, I may be able to uncover what underlying patterns and correlations that may be contributing to this disease. Demographics, location and lifestyle features are known to be associated with the risk of diabetes.\n",
    "By incorporating these variables into a Naive Bayes model, I can predict the likelihood of diabetes and identify which factors are most strongly associated with a diagnosis. Naive Bayes is effective for this because it assumes feature independence, allowing it to efficiently model the contributions of each factor. In summary, my main goal is to identify what importance each feature may have in relation to diabetes."
   ]
  },
  {
   "cell_type": "markdown",
   "id": "91d38121-6cec-4803-87b3-d8e08404873a",
   "metadata": {},
   "source": [
    "# Part II: Method Justification"
   ]
  },
  {
   "cell_type": "markdown",
   "id": "3fd326e2-5a38-423f-a09f-a8f361e8daf9",
   "metadata": {},
   "source": [
    "## B1.  Naive Bayes Justification\n",
    "\n",
    "Naive Bayes is an effective algorithm for classifying features in predicting target variables like diabetes due to its simplicity, speed, and ability to handle high dimensional data. The algorithm's different functions, such as Gaussian Naive Bayes (handling continuous variables like age) and Bernoulli Naive Bayes (suitable for binary and categorical features) make it adaptable to datasets with a variety of data types. This flexibility makes it ideal for this dataset.\n",
    "\n",
    "Naive Bayes can still perform well even when its assumption of feature independence is violated. Additionally, while Naive Bayes does not necessarily address imbalanced data, it can handle imbalanced datasets well due to the probabilistic nature of its predictions. This is vital for features like gender that contains severe class imbalances.\n",
    "\n",
    "While dimensionality isn’t a major concern in the dataset (lacking high cardinality), Naive Bayes performs well in high-dimensional spaces, particularly in text classification tasks. Lastly, Naive Bayes is computationally efficient, making it suitable for faster predictions, which can be beneficial for larger healthcare systems and real life applications.\n",
    "\n",
    "Given the nature of the dataset, Naive Bayes is expected to perform well in identifying contributing factors for diabetes, such as age, area, and medical conditions (e.g. overweight). The model will provide probabilistic outputs, allowing the estimation of the likelihood of a patient being diagnosed with diabetes based on the features."
   ]
  },
  {
   "cell_type": "markdown",
   "id": "e5234773-3c00-494c-8e0d-7f920b2007e3",
   "metadata": {},
   "source": [
    "## B2.  Summarize one assumption of the chosen classification method.\n",
    "One of the main reasons Naive Bayes received its name ***naive*** is because of an assumption that all feature variables are completely independent of one another. It naively assumes the \"presence or absence of a particular feature does not affect the presence or absence of any other feature\" (Spot Intelligence 2024). Despite this assumption often being violated due to its unrealistic nature, this algorithm still performs fairly well in practice."
   ]
  },
  {
   "cell_type": "markdown",
   "id": "e4680467-39be-419c-8e52-31ae63e5a02a",
   "metadata": {},
   "source": [
    "## B3.  Python Packages & Libraries\n",
    "\n",
    "Python has many versatile libraries including NumPy (numerical python operations) and Pandas (used for manipulation of dataframes). During the wrangling phase, the pandas library proves to be incredibly useful for the manipulation of dataframes, including cleaning, transforming and creating new features. It has many useful functions needed to help prepare dataframes for modeling such as functions to fill nulls, change data types, and one hot encode variables. Numpy is also a favorite with it's powerful performance with numerical operations on arrays. This is especially useful for preparing data for machine learning models like Naive Bayes.\n",
    "\n",
    "Scikit-learn (sklearn) is a great library for machine learning because it provides a wide range of efficient tools for model building, data preprocessing, and evaluation. It offers user friendly functions for classification tasks. Additionally, its integration with NumPy and Pandas makes data manipulation easily achievable, and it supports techniques such as cross validation and model fine tuning.\n",
    "\n",
    "In summary, these versatile packages, their ease of use and large community make them a strong tool for this project."
   ]
  },
  {
   "cell_type": "markdown",
   "id": "057ee54c-ef18-468c-b1fd-6d1c4fbc942d",
   "metadata": {},
   "source": [
    "# Part III: Data Preparation\n",
    "## C1.  Data Preprocessing\n",
    "While data in general requires many preprocessing steps to prepare for machine learning, one of the most important ones is one hot encoding. Models such as Naive Bayes require numerical data. When working with tabular data, any non numerical variables must be converted to numerical representation. One hot encoding is an especially useful function in converting categorical variables into readable numerical columns. Each value in the specific column will be transformed into a *flag* column (binary 1/0). For example, gender has the three values: female, male and nonbinary. In order for this to be translated numerically, each value will be transformed into its own flag column, often dropping the first column to avoid repetitiveness. In turn the results will be two binary columns representing `male` and `nonbinary`. Both columns having 0 as a value mathematically represents the female gender."
   ]
  },
  {
   "cell_type": "markdown",
   "id": "e083b010-d4d0-42af-8beb-33e12b6cddff",
   "metadata": {},
   "source": [
    "## C2.  Initial data set variables that you will use to perform the analysis for the classification question from part A1 and classify each variable as numeric or categorical."
   ]
  },
  {
   "cell_type": "markdown",
   "id": "dce89dcc-d5b9-4850-8982-1174c773d48c",
   "metadata": {},
   "source": [
    "The initial dataset variables below show a variety of descriptors including patient medical history, geographical information and hospital stay details. Medical history information includes history of backpain, obesity and age. Geographical information describes the area in which they live in including the local population count and area type. Lastly, the details of their medical stay include what type of admission it was and services receieved.\n",
    "\n",
    "I chosse to remove identifier variables such as case order, customer id, interaction and unique id. These columns are variables identifiable to the patient and have no numerical value. Next I removed excessive geographical features such as city, zip and latitude/longitude. These data would require more robust exploration and transformation and are not suitable for initial minimal viable product modeling. I also exclude personal patient details such as income and job and removed survey answers item 1 through item 8 as these are known to have multicollinearity which would violate the basic assumption of Naive Bayes.\n",
    "\n",
    "My **numerical** variables consist of:\n",
    "- ***ordinal***\\\n",
    "`age`\\\n",
    "`vitd_levels`\\\n",
    "`daily_charges`\\\n",
    "`additional_charges`\\\n",
    "`population`\\\n",
    "`children`\\\n",
    "`doc_visits`\\\n",
    "`full_meals_eaten`\\\n",
    "`vitd_levels`\\\n",
    "`vitd_supplement`\n",
    "\n",
    "\n",
    "- ***boolean***\\\n",
    "`readmission`\\\n",
    "`high_blood`\\\n",
    "`stroke`\\\n",
    "`overweight`\\\n",
    "`arthritis`\\\n",
    "`diabetes`\\\n",
    "`hyperlipidemia`\\\n",
    "`backpain`\\\n",
    "`anxiety`\\\n",
    "`allergic_rhinitis`\\\n",
    "`reflux_esophagitis`\\\n",
    "`asthma`\\\n",
    "`soft_drink`\n",
    "\n",
    "\n",
    "\n",
    "My **categorical** variables are:\\\n",
    "`gender`\\\n",
    "`marital`\\\n",
    "`area`\\\n",
    "`state`\\\n",
    "`initial_admin`\\\n",
    "`complication_risk`\\\n",
    "`services_received`"
   ]
  },
  {
   "cell_type": "code",
   "execution_count": 2,
   "id": "0a6749d1-c327-49fe-8a36-38867dae9e66",
   "metadata": {},
   "outputs": [
    {
     "data": {
      "text/html": [
       "<div>\n",
       "<style scoped>\n",
       "    .dataframe tbody tr th:only-of-type {\n",
       "        vertical-align: middle;\n",
       "    }\n",
       "\n",
       "    .dataframe tbody tr th {\n",
       "        vertical-align: top;\n",
       "    }\n",
       "\n",
       "    .dataframe thead th {\n",
       "        text-align: right;\n",
       "    }\n",
       "</style>\n",
       "<table border=\"1\" class=\"dataframe\">\n",
       "  <thead>\n",
       "    <tr style=\"text-align: right;\">\n",
       "      <th></th>\n",
       "      <th>state</th>\n",
       "      <th>population</th>\n",
       "      <th>area</th>\n",
       "      <th>children</th>\n",
       "      <th>age</th>\n",
       "      <th>marital</th>\n",
       "      <th>gender</th>\n",
       "      <th>readmission</th>\n",
       "      <th>vitd_levels</th>\n",
       "      <th>doc_visits</th>\n",
       "      <th>...</th>\n",
       "      <th>hyperlipidemia</th>\n",
       "      <th>backpain</th>\n",
       "      <th>anxiety</th>\n",
       "      <th>allergic_rhinitis</th>\n",
       "      <th>reflux_esophagitis</th>\n",
       "      <th>asthma</th>\n",
       "      <th>services_received</th>\n",
       "      <th>hospital_stay_days</th>\n",
       "      <th>daily_charges</th>\n",
       "      <th>additional_charges</th>\n",
       "    </tr>\n",
       "  </thead>\n",
       "  <tbody>\n",
       "    <tr>\n",
       "      <th>0</th>\n",
       "      <td>AL</td>\n",
       "      <td>2951</td>\n",
       "      <td>Suburban</td>\n",
       "      <td>1</td>\n",
       "      <td>53</td>\n",
       "      <td>Divorced</td>\n",
       "      <td>Male</td>\n",
       "      <td>False</td>\n",
       "      <td>19.14</td>\n",
       "      <td>6</td>\n",
       "      <td>...</td>\n",
       "      <td>False</td>\n",
       "      <td>True</td>\n",
       "      <td>True</td>\n",
       "      <td>True</td>\n",
       "      <td>False</td>\n",
       "      <td>True</td>\n",
       "      <td>Blood Work</td>\n",
       "      <td>10</td>\n",
       "      <td>3726.70</td>\n",
       "      <td>17939.40</td>\n",
       "    </tr>\n",
       "    <tr>\n",
       "      <th>1</th>\n",
       "      <td>FL</td>\n",
       "      <td>11303</td>\n",
       "      <td>Urban</td>\n",
       "      <td>3</td>\n",
       "      <td>51</td>\n",
       "      <td>Married</td>\n",
       "      <td>Female</td>\n",
       "      <td>False</td>\n",
       "      <td>18.94</td>\n",
       "      <td>4</td>\n",
       "      <td>...</td>\n",
       "      <td>False</td>\n",
       "      <td>False</td>\n",
       "      <td>False</td>\n",
       "      <td>False</td>\n",
       "      <td>True</td>\n",
       "      <td>False</td>\n",
       "      <td>Intravenous</td>\n",
       "      <td>15</td>\n",
       "      <td>4193.19</td>\n",
       "      <td>17613.00</td>\n",
       "    </tr>\n",
       "    <tr>\n",
       "      <th>2</th>\n",
       "      <td>SD</td>\n",
       "      <td>17125</td>\n",
       "      <td>Suburban</td>\n",
       "      <td>3</td>\n",
       "      <td>53</td>\n",
       "      <td>Widowed</td>\n",
       "      <td>Female</td>\n",
       "      <td>False</td>\n",
       "      <td>18.06</td>\n",
       "      <td>4</td>\n",
       "      <td>...</td>\n",
       "      <td>False</td>\n",
       "      <td>False</td>\n",
       "      <td>False</td>\n",
       "      <td>False</td>\n",
       "      <td>False</td>\n",
       "      <td>False</td>\n",
       "      <td>Blood Work</td>\n",
       "      <td>4</td>\n",
       "      <td>2434.23</td>\n",
       "      <td>17505.19</td>\n",
       "    </tr>\n",
       "    <tr>\n",
       "      <th>3</th>\n",
       "      <td>MN</td>\n",
       "      <td>2162</td>\n",
       "      <td>Suburban</td>\n",
       "      <td>0</td>\n",
       "      <td>78</td>\n",
       "      <td>Married</td>\n",
       "      <td>Male</td>\n",
       "      <td>False</td>\n",
       "      <td>16.58</td>\n",
       "      <td>4</td>\n",
       "      <td>...</td>\n",
       "      <td>False</td>\n",
       "      <td>False</td>\n",
       "      <td>False</td>\n",
       "      <td>False</td>\n",
       "      <td>True</td>\n",
       "      <td>True</td>\n",
       "      <td>Blood Work</td>\n",
       "      <td>1</td>\n",
       "      <td>2127.83</td>\n",
       "      <td>12993.44</td>\n",
       "    </tr>\n",
       "    <tr>\n",
       "      <th>4</th>\n",
       "      <td>VA</td>\n",
       "      <td>5287</td>\n",
       "      <td>Rural</td>\n",
       "      <td>1</td>\n",
       "      <td>22</td>\n",
       "      <td>Widowed</td>\n",
       "      <td>Female</td>\n",
       "      <td>False</td>\n",
       "      <td>17.44</td>\n",
       "      <td>5</td>\n",
       "      <td>...</td>\n",
       "      <td>True</td>\n",
       "      <td>False</td>\n",
       "      <td>False</td>\n",
       "      <td>True</td>\n",
       "      <td>False</td>\n",
       "      <td>False</td>\n",
       "      <td>CT Scan</td>\n",
       "      <td>1</td>\n",
       "      <td>2113.07</td>\n",
       "      <td>3716.53</td>\n",
       "    </tr>\n",
       "  </tbody>\n",
       "</table>\n",
       "<p>5 rows × 30 columns</p>\n",
       "</div>"
      ],
      "text/plain": [
       "  state  population      area  children  age   marital  gender  readmission  \\\n",
       "0    AL        2951  Suburban         1   53  Divorced    Male        False   \n",
       "1    FL       11303     Urban         3   51   Married  Female        False   \n",
       "2    SD       17125  Suburban         3   53   Widowed  Female        False   \n",
       "3    MN        2162  Suburban         0   78   Married    Male        False   \n",
       "4    VA        5287     Rural         1   22   Widowed  Female        False   \n",
       "\n",
       "   vitd_levels  doc_visits  ...  hyperlipidemia  backpain  anxiety  \\\n",
       "0        19.14           6  ...           False      True     True   \n",
       "1        18.94           4  ...           False     False    False   \n",
       "2        18.06           4  ...           False     False    False   \n",
       "3        16.58           4  ...           False     False    False   \n",
       "4        17.44           5  ...            True     False    False   \n",
       "\n",
       "  allergic_rhinitis  reflux_esophagitis  asthma services_received  \\\n",
       "0              True               False    True        Blood Work   \n",
       "1             False                True   False       Intravenous   \n",
       "2             False               False   False        Blood Work   \n",
       "3             False                True    True        Blood Work   \n",
       "4              True               False   False           CT Scan   \n",
       "\n",
       "   hospital_stay_days  daily_charges  additional_charges  \n",
       "0                  10        3726.70            17939.40  \n",
       "1                  15        4193.19            17613.00  \n",
       "2                   4        2434.23            17505.19  \n",
       "3                   1        2127.83            12993.44  \n",
       "4                   1        2113.07             3716.53  \n",
       "\n",
       "[5 rows x 30 columns]"
      ]
     },
     "execution_count": 2,
     "metadata": {},
     "output_type": "execute_result"
    }
   ],
   "source": [
    "df = w.wrangle_df(filepath='medical_raw_df.csv')\n",
    "df.head()"
   ]
  },
  {
   "cell_type": "code",
   "execution_count": 3,
   "id": "c6b6353b-c1bf-45e4-850b-6b1aa9fdf83a",
   "metadata": {},
   "outputs": [
    {
     "name": "stdout",
     "output_type": "stream",
     "text": [
      "Columns used for initial analysis: ['additional_charges', 'age', 'allergic_rhinitis', 'anxiety', 'area', 'arthritis', 'asthma', 'backpain', 'children', 'complication_risk', 'daily_charges', 'diabetes', 'doc_visits', 'full_meals_eaten', 'gender', 'high_blood', 'hospital_stay_days', 'hyperlipidemia', 'initial_admin', 'marital', 'overweight', 'population', 'readmission', 'reflux_esophagitis', 'services_received', 'soft_drink', 'state', 'stroke', 'vitd_levels', 'vitd_supplement']\n"
     ]
    }
   ],
   "source": [
    "print(f'Columns used for initial analysis: {list(sorted(df.columns))}')"
   ]
  },
  {
   "cell_type": "code",
   "execution_count": 4,
   "id": "a2b5aac1-4dc2-4b48-bbcb-4512f5a996ab",
   "metadata": {},
   "outputs": [],
   "source": [
    "# separate exploratory variables into type for ease of exploring\n",
    "\n",
    "# numerical/ordinal variables\n",
    "num_vars = ['age',\n",
    "             'vitd_levels',\n",
    "             'daily_charges',\n",
    "             'additional_charges',\n",
    "             'population',\n",
    "             'children',\n",
    "             'doc_visits',\n",
    "             'full_meals_eaten',\n",
    "             'vitd_levels',\n",
    "             'vitd_supplement']\n",
    "\n",
    "# categorical variables\n",
    "cat_vars = ['gender', \n",
    "            'marital',\n",
    "            'area',\n",
    "            'state',\n",
    "            'initial_admin',\n",
    "            'complication_risk',\n",
    "            'services_received']\n",
    "\n",
    "\n",
    "# List of boolean health-related variables\n",
    "bool_vars = ['readmission',\n",
    "             'high_blood', \n",
    "             'stroke',  \n",
    "             'overweight', \n",
    "             'arthritis', \n",
    "             'diabetes', \n",
    "             'hyperlipidemia', \n",
    "             'backpain', \n",
    "             'anxiety', \n",
    "             'allergic_rhinitis', \n",
    "             'reflux_esophagitis', \n",
    "             'asthma',\n",
    "             'soft_drink']"
   ]
  },
  {
   "cell_type": "code",
   "execution_count": 5,
   "id": "e09b5776-b7fd-435c-8bf7-97ff67285b28",
   "metadata": {},
   "outputs": [
    {
     "data": {
      "text/plain": [
       "30"
      ]
     },
     "execution_count": 5,
     "metadata": {},
     "output_type": "execute_result"
    }
   ],
   "source": [
    "len(df.columns)"
   ]
  },
  {
   "cell_type": "code",
   "execution_count": null,
   "id": "52dd9147-3e0d-464b-95c9-94f77338409c",
   "metadata": {},
   "outputs": [],
   "source": []
  },
  {
   "cell_type": "code",
   "execution_count": null,
   "id": "2c38e76f-807c-4a93-879c-fab7395d4dd5",
   "metadata": {},
   "outputs": [],
   "source": []
  },
  {
   "cell_type": "markdown",
   "id": "5fe02d87-a061-4faa-b266-6b24eeff3b96",
   "metadata": {},
   "source": [
    "## C3.  Explain each of the steps used to prepare the data for the analysis. Identify the code segment for each step.\n",
    "\n",
    "## C4.  Provide a copy of the cleaned data set."
   ]
  },
  {
   "cell_type": "code",
   "execution_count": null,
   "id": "7eb3baaf-2baf-4125-8dea-b87013ae1d54",
   "metadata": {},
   "outputs": [],
   "source": []
  },
  {
   "cell_type": "markdown",
   "id": "47ec144a-58b9-40e1-b948-63f7605c0615",
   "metadata": {},
   "source": [
    "# Part IV: Analysis\n",
    "\n",
    "D.  Perform the data analysis and report on the results by doing the following:\n",
    "\n",
    "1.  Split the data into training and test data sets and provide the file(s).\n",
    "\n",
    "2.  Describe the analysis technique you used to appropriately analyze the data. Include screenshots of the intermediate calculations you performed.\n",
    "\n",
    "3.  Provide the code used to perform the classification analysis from part D2."
   ]
  },
  {
   "cell_type": "markdown",
   "id": "829519a4-1e18-4f4c-8a34-7cf13af7b7a5",
   "metadata": {},
   "source": [
    "# Part V: Data Summary and Implications\n",
    "\n",
    "E.  Summarize your data analysis by doing the following:\n",
    "\n",
    "1.  Explain the accuracy and the area under the curve (AUC) of your classification model.\n",
    "\n",
    "2.  Discuss the results and implications of your classification analysis.\n",
    "\n",
    "3.  Discuss one limitation of your data analysis.\n",
    "\n",
    "4.  Recommend a course of action for the real-world organizational situation from part A1 based on your results and implications discussed in part E2."
   ]
  },
  {
   "cell_type": "code",
   "execution_count": null,
   "id": "32a49f5f-165f-4c5f-be01-e1644a2c94b8",
   "metadata": {},
   "outputs": [],
   "source": []
  },
  {
   "cell_type": "markdown",
   "id": "47729497-4fb8-44bc-9bfd-83b5e9984dd1",
   "metadata": {},
   "source": [
    "# Web Sources\n",
    "- https://www.cdc.gov/diabetes/php/data-research/index.html#:~:text=Among%20the%20U.S.%20population%20overall,Table%201a%3B%20Table%201b).\n",
    "\n",
    "- https://www.ibm.com/topics/naive-bayes#:~:text=IBM-,What%20are%20Na%C3%AFve%20Bayes%20classifiers%3F,probability%20to%20perform%20classification%20tasks.\n",
    "\n",
    "- https://scikit-learn.org/stable/modules/naive_bayes.html\n",
    "\n",
    "- https://www.youtube.com/watch?v=O2L2Uv9pdDA\n",
    "\n",
    "- https://iq.opengenus.org/types-of-naive-bayes/\n",
    "\n",
    "- https://spotintelligence.com/2024/05/31/naive-bayes-classification/"
   ]
  },
  {
   "cell_type": "code",
   "execution_count": null,
   "id": "362d1c60-a022-4162-ba10-41faad9b6f06",
   "metadata": {},
   "outputs": [],
   "source": []
  }
 ],
 "metadata": {
  "kernelspec": {
   "display_name": "Python 3 (ipykernel)",
   "language": "python",
   "name": "python3"
  },
  "language_info": {
   "codemirror_mode": {
    "name": "ipython",
    "version": 3
   },
   "file_extension": ".py",
   "mimetype": "text/x-python",
   "name": "python",
   "nbconvert_exporter": "python",
   "pygments_lexer": "ipython3",
   "version": "3.8.5"
  }
 },
 "nbformat": 4,
 "nbformat_minor": 5
}
